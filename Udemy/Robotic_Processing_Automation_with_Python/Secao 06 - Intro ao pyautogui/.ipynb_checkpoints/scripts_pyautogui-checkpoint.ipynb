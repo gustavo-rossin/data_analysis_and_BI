{
 "cells": [
  {
   "cell_type": "code",
   "execution_count": 1,
   "id": "11c85f0d",
   "metadata": {},
   "outputs": [
    {
     "name": "stdout",
     "output_type": "stream",
     "text": [
      "Collecting pyautogui\n",
      "  Downloading PyAutoGUI-0.9.54.tar.gz (61 kB)\n",
      "     ---------------------------------------- 61.2/61.2 kB 1.6 MB/s eta 0:00:00\n",
      "  Installing build dependencies: started\n",
      "  Installing build dependencies: finished with status 'done'\n",
      "  Getting requirements to build wheel: started\n",
      "  Getting requirements to build wheel: finished with status 'done'\n",
      "  Preparing metadata (pyproject.toml): started\n",
      "  Preparing metadata (pyproject.toml): finished with status 'done'\n",
      "Collecting mouseinfo\n",
      "  Using cached MouseInfo-0.1.3.tar.gz (10 kB)\n",
      "  Preparing metadata (setup.py): started\n",
      "  Preparing metadata (setup.py): finished with status 'done'\n",
      "Collecting pyscreeze>=0.1.21\n",
      "  Downloading PyScreeze-0.1.30.tar.gz (27 kB)\n",
      "  Installing build dependencies: started\n",
      "  Installing build dependencies: finished with status 'done'\n",
      "  Getting requirements to build wheel: started\n",
      "  Getting requirements to build wheel: finished with status 'done'\n",
      "  Preparing metadata (pyproject.toml): started\n",
      "  Preparing metadata (pyproject.toml): finished with status 'done'\n",
      "Collecting pygetwindow>=0.0.5\n",
      "  Using cached PyGetWindow-0.0.9.tar.gz (9.7 kB)\n",
      "  Preparing metadata (setup.py): started\n",
      "  Preparing metadata (setup.py): finished with status 'done'\n",
      "Collecting pytweening>=1.0.4\n",
      "  Downloading pytweening-1.0.7.tar.gz (168 kB)\n",
      "     -------------------------------------- 168.2/168.2 kB 9.9 MB/s eta 0:00:00\n",
      "  Preparing metadata (setup.py): started\n",
      "  Preparing metadata (setup.py): finished with status 'done'\n",
      "Collecting pymsgbox\n",
      "  Using cached PyMsgBox-1.0.9.tar.gz (18 kB)\n",
      "  Installing build dependencies: started\n",
      "  Installing build dependencies: finished with status 'done'\n",
      "  Getting requirements to build wheel: started\n",
      "  Getting requirements to build wheel: finished with status 'done'\n",
      "  Preparing metadata (pyproject.toml): started\n",
      "  Preparing metadata (pyproject.toml): finished with status 'done'\n",
      "Collecting pyrect\n",
      "  Downloading PyRect-0.2.0.tar.gz (17 kB)\n",
      "  Preparing metadata (setup.py): started\n",
      "  Preparing metadata (setup.py): finished with status 'done'\n",
      "Requirement already satisfied: Pillow>=9.2.0 in c:\\users\\gusta\\anaconda3\\lib\\site-packages (from pyscreeze>=0.1.21->pyautogui) (9.2.0)\n",
      "Collecting pyperclip\n",
      "  Using cached pyperclip-1.8.2.tar.gz (20 kB)\n",
      "  Preparing metadata (setup.py): started\n",
      "  Preparing metadata (setup.py): finished with status 'done'\n",
      "Building wheels for collected packages: pyautogui, pygetwindow, pyscreeze, pytweening, mouseinfo, pymsgbox, pyperclip, pyrect\n",
      "  Building wheel for pyautogui (pyproject.toml): started\n",
      "  Building wheel for pyautogui (pyproject.toml): finished with status 'done'\n",
      "  Created wheel for pyautogui: filename=PyAutoGUI-0.9.54-py3-none-any.whl size=37596 sha256=2e5ca9e7ea6d7c18ff8e1ff49e4703d678aa997a74c1c0f2604a7d245f2aaae2\n",
      "  Stored in directory: c:\\users\\gusta\\appdata\\local\\pip\\cache\\wheels\\29\\2b\\5f\\9df8525a15d14d1a3ba04fe66e5bd3d2dc8ca7f5fb2ab2ec50\n",
      "  Building wheel for pygetwindow (setup.py): started\n",
      "  Building wheel for pygetwindow (setup.py): finished with status 'done'\n",
      "  Created wheel for pygetwindow: filename=PyGetWindow-0.0.9-py3-none-any.whl size=11063 sha256=0996e46b16a65378a6994f7bb8aed0985c3d42411436d80bbe66b1c6845fd5c8\n",
      "  Stored in directory: c:\\users\\gusta\\appdata\\local\\pip\\cache\\wheels\\44\\ab\\20\\423c3a444793767e4e41f8377bc902f77bee212e68dcce85a5\n",
      "  Building wheel for pyscreeze (pyproject.toml): started\n",
      "  Building wheel for pyscreeze (pyproject.toml): finished with status 'done'\n",
      "  Created wheel for pyscreeze: filename=PyScreeze-0.1.30-py3-none-any.whl size=14401 sha256=43dedd179236d373dfc3f219a5b95fb73cc55ebf8a7e20f7e5a236b7b68cd432\n",
      "  Stored in directory: c:\\users\\gusta\\appdata\\local\\pip\\cache\\wheels\\57\\ef\\26\\25869f8f3fbfc108d6d5a50f57184291825caedc8ab1eaa1d6\n",
      "  Building wheel for pytweening (setup.py): started\n",
      "  Building wheel for pytweening (setup.py): finished with status 'done'\n",
      "  Created wheel for pytweening: filename=pytweening-1.0.7-py3-none-any.whl size=6198 sha256=6ced6b60cb5b7618285dd407491620942b418c30e95fc6fbb22ef18e0c7cdc5a\n",
      "  Stored in directory: c:\\users\\gusta\\appdata\\local\\pip\\cache\\wheels\\d1\\d6\\29\\c2adb2c73f3e9ac2486786fe1f16e8036bd062205303e1ed6a\n",
      "  Building wheel for mouseinfo (setup.py): started\n",
      "  Building wheel for mouseinfo (setup.py): finished with status 'done'\n",
      "  Created wheel for mouseinfo: filename=MouseInfo-0.1.3-py3-none-any.whl size=10891 sha256=cc3ea038f6f3fb27f79488d6e2ce603272ec7f1af52ce42a0246d70954c0a28c\n",
      "  Stored in directory: c:\\users\\gusta\\appdata\\local\\pip\\cache\\wheels\\61\\73\\b9\\6fb1131ab36e650206e3aa0ad7a68907b41b32ac2d4f75f543\n",
      "  Building wheel for pymsgbox (pyproject.toml): started\n",
      "  Building wheel for pymsgbox (pyproject.toml): finished with status 'done'\n",
      "  Created wheel for pymsgbox: filename=PyMsgBox-1.0.9-py3-none-any.whl size=7417 sha256=5f8ad5dbe143da1d4191aae95c44005a91439eb407959639e02c3a6a29de2a8e\n",
      "  Stored in directory: c:\\users\\gusta\\appdata\\local\\pip\\cache\\wheels\\7f\\13\\8c\\584c519464297d9637f9cd29fd1dcdf55e2a2cab225c76a2db\n",
      "  Building wheel for pyperclip (setup.py): started\n",
      "  Building wheel for pyperclip (setup.py): finished with status 'done'\n",
      "  Created wheel for pyperclip: filename=pyperclip-1.8.2-py3-none-any.whl size=11123 sha256=933512922baff2e358e673e0ad678921b500663eaaff8b3aac9350c17b38aaf9\n",
      "  Stored in directory: c:\\users\\gusta\\appdata\\local\\pip\\cache\\wheels\\0c\\09\\9e\\49e21a6840ef7955b06d47394afef0058f0378c0914e48b8b8\n",
      "  Building wheel for pyrect (setup.py): started\n",
      "  Building wheel for pyrect (setup.py): finished with status 'done'\n",
      "  Created wheel for pyrect: filename=PyRect-0.2.0-py2.py3-none-any.whl size=11179 sha256=35115b48fe6a77106692608403b3b1beaec56525e4221b74cf02f93c2e7df8ba\n",
      "  Stored in directory: c:\\users\\gusta\\appdata\\local\\pip\\cache\\wheels\\25\\80\\fa\\27bb4a1c2e21f64ec71390489d52e57b7cc8afbe79bd595c5e\n",
      "Successfully built pyautogui pygetwindow pyscreeze pytweening mouseinfo pymsgbox pyperclip pyrect\n",
      "Installing collected packages: pytweening, pyrect, pyperclip, pymsgbox, pyscreeze, pygetwindow, mouseinfo, pyautogui\n",
      "Successfully installed mouseinfo-0.1.3 pyautogui-0.9.54 pygetwindow-0.0.9 pymsgbox-1.0.9 pyperclip-1.8.2 pyrect-0.2.0 pyscreeze-0.1.30 pytweening-1.0.7\n"
     ]
    },
    {
     "name": "stderr",
     "output_type": "stream",
     "text": [
      "WARNING: Ignoring invalid distribution -rotobuf (c:\\users\\gusta\\anaconda3\\lib\\site-packages)\n",
      "WARNING: Ignoring invalid distribution -atplotlib (c:\\users\\gusta\\anaconda3\\lib\\site-packages)\n",
      "WARNING: Ignoring invalid distribution -rotobuf (c:\\users\\gusta\\anaconda3\\lib\\site-packages)\n",
      "WARNING: Ignoring invalid distribution -atplotlib (c:\\users\\gusta\\anaconda3\\lib\\site-packages)\n",
      "WARNING: Ignoring invalid distribution -rotobuf (c:\\users\\gusta\\anaconda3\\lib\\site-packages)\n",
      "WARNING: Ignoring invalid distribution -atplotlib (c:\\users\\gusta\\anaconda3\\lib\\site-packages)\n",
      "WARNING: Ignoring invalid distribution -rotobuf (c:\\users\\gusta\\anaconda3\\lib\\site-packages)\n",
      "WARNING: Ignoring invalid distribution -atplotlib (c:\\users\\gusta\\anaconda3\\lib\\site-packages)\n",
      "WARNING: Ignoring invalid distribution -rotobuf (c:\\users\\gusta\\anaconda3\\lib\\site-packages)\n",
      "WARNING: Ignoring invalid distribution -atplotlib (c:\\users\\gusta\\anaconda3\\lib\\site-packages)\n",
      "WARNING: Ignoring invalid distribution -rotobuf (c:\\users\\gusta\\anaconda3\\lib\\site-packages)\n",
      "WARNING: Ignoring invalid distribution -atplotlib (c:\\users\\gusta\\anaconda3\\lib\\site-packages)\n",
      "WARNING: Ignoring invalid distribution -rotobuf (c:\\users\\gusta\\anaconda3\\lib\\site-packages)\n",
      "WARNING: Ignoring invalid distribution -atplotlib (c:\\users\\gusta\\anaconda3\\lib\\site-packages)\n",
      "WARNING: Ignoring invalid distribution -rotobuf (c:\\users\\gusta\\anaconda3\\lib\\site-packages)\n",
      "WARNING: Ignoring invalid distribution -atplotlib (c:\\users\\gusta\\anaconda3\\lib\\site-packages)\n",
      "WARNING: Ignoring invalid distribution -rotobuf (c:\\users\\gusta\\anaconda3\\lib\\site-packages)\n",
      "WARNING: Ignoring invalid distribution -atplotlib (c:\\users\\gusta\\anaconda3\\lib\\site-packages)\n",
      "WARNING: Ignoring invalid distribution -rotobuf (c:\\users\\gusta\\anaconda3\\lib\\site-packages)\n",
      "WARNING: Ignoring invalid distribution -atplotlib (c:\\users\\gusta\\anaconda3\\lib\\site-packages)\n",
      "WARNING: Ignoring invalid distribution -rotobuf (c:\\users\\gusta\\anaconda3\\lib\\site-packages)\n",
      "WARNING: Ignoring invalid distribution -atplotlib (c:\\users\\gusta\\anaconda3\\lib\\site-packages)\n",
      "WARNING: Ignoring invalid distribution -rotobuf (c:\\users\\gusta\\anaconda3\\lib\\site-packages)\n",
      "WARNING: Ignoring invalid distribution -atplotlib (c:\\users\\gusta\\anaconda3\\lib\\site-packages)\n",
      "WARNING: Ignoring invalid distribution -rotobuf (c:\\users\\gusta\\anaconda3\\lib\\site-packages)\n",
      "WARNING: Ignoring invalid distribution -atplotlib (c:\\users\\gusta\\anaconda3\\lib\\site-packages)\n",
      "WARNING: Ignoring invalid distribution -rotobuf (c:\\users\\gusta\\anaconda3\\lib\\site-packages)\n",
      "WARNING: Ignoring invalid distribution -atplotlib (c:\\users\\gusta\\anaconda3\\lib\\site-packages)\n"
     ]
    }
   ],
   "source": [
    "!pip install pyautogui"
   ]
  },
  {
   "cell_type": "code",
   "execution_count": 30,
   "id": "3f7c0795",
   "metadata": {},
   "outputs": [
    {
     "name": "stdout",
     "output_type": "stream",
     "text": [
      "Point(x=842, y=613)\n"
     ]
    }
   ],
   "source": [
    "import pyautogui as posicaoMouse\n",
    "\n",
    "posicaoMouse.sleep(2)\n",
    "print(posicaoMouse.position())\n",
    "\n",
    "# posicaoMouse.moveTo(x=1776, y=17) # minimiza pagina\n",
    "posicaoMouse.moveTo(x=966, y=25) #clica no + pra abrir outra pag\n",
    "posicaoMouse.click()\n",
    "posicaoMouse.sleep(2)\n",
    "posicaoMouse.moveTo(x=878, y=76)\n",
    "posicaoMouse.typewrite('instagram')\n",
    "posicaoMouse.press('enter')\n",
    "# # posicaoMouse.moveTo(x=1023, y=1057) # abre o chrome\n",
    "# posicaoMouse.moveTo(x=849, y=1056) # clica em pesquisa\n",
    "# posicaoMouse.click()\n",
    "# posicaoMouse.moveTo(x=849, y=1056) # clica em pesquisa\n",
    "# posicaoMouse.typewrite('google chrome')\n",
    "# posicaoMouse.press('enter') #abre o chrome na segunda tela\n",
    "\n",
    "# posicaoMouse.moveTo(x=2806, y=76) # move o mouse pra segunda tela\n",
    "# posicaoMouse.typewrite('instagram')\n",
    "# posicaoMouse.press('enter') # entra no insta\n",
    "\n",
    "# posicaoMouse.moveTo(x=1142, y=919) # abre a pagina do jupyter\n",
    "# posicaoMouse.click()\n"
   ]
  },
  {
   "cell_type": "code",
   "execution_count": 79,
   "id": "4e5a3bc8",
   "metadata": {},
   "outputs": [],
   "source": [
    "import pyautogui as pos\n",
    "\n",
    "def check_youtube():\n",
    "    pos.sleep(2)\n",
    "\n",
    "    pos.moveTo(x=1776, y=17) # minimiza pagina\n",
    "    pos.click()\n",
    "    pos.moveTo(x=52, y=182) #abre google no desktop\n",
    "    pos.doubleClick()\n",
    "    pos.sleep(2)\n",
    "    pos.typewrite('youtube.com', interval = 0.1)\n",
    "    pos.press('enter')\n",
    "    pos.sleep(4)\n",
    "    pos.click(x=2919, y=363)\n",
    "\n",
    "def check_instagram():\n",
    "    pos.sleep(2)\n",
    "    pos.moveTo(x=1776, y=17) # minimiza pagina\n",
    "    pos.click()\n",
    "    pos.sleep(2)\n",
    "    pos.moveTo(x=52, y=182) #abre google no desktop\n",
    "    pos.doubleClick()\n",
    "    pos.sleep(4)\n",
    "    pos.typewrite('instagram', interval = 0.1)\n",
    "    pos.press('enter')\n",
    "\n",
    "check_instagram()"
   ]
  },
  {
   "cell_type": "code",
   "execution_count": 38,
   "id": "b369522e",
   "metadata": {},
   "outputs": [
    {
     "name": "stdout",
     "output_type": "stream",
     "text": [
      "Point(x=2919, y=363)\n"
     ]
    }
   ],
   "source": [
    "posicaoMouse.sleep(4)\n",
    "print(posicaoMouse.position())"
   ]
  },
  {
   "cell_type": "code",
   "execution_count": 86,
   "id": "1d4b6593",
   "metadata": {
    "scrolled": true
   },
   "outputs": [
    {
     "name": "stdout",
     "output_type": "stream",
     "text": [
      "Digite alguma coisa: \n",
      "eoiqwe1\n"
     ]
    }
   ],
   "source": [
    "#DIGITE ALGUMA COISA. O NOTEPAD ABRE, DIGITA E FECHA.\n",
    "\n",
    "def digite_alguma_coisa():\n",
    "    texto = input('Digite alguma coisa: \\n')\n",
    "    pos.sleep(1)\n",
    "    pos.hotkey('win', 'r')\n",
    "    pos.sleep(1)\n",
    "    pos.typewrite('notepad', interval = 0.1)\n",
    "    pos.sleep(1)\n",
    "    pos.press('enter')\n",
    "    pos.sleep(2)\n",
    "    pos.typewrite(texto, interval = 0.1)\n",
    "    pos.sleep(1)\n",
    "    #estou fechando a janela ativa\n",
    "    pos.getActiveWindow().close()\n",
    "    pos.sleep(1)\n",
    "    pos.press('n')\n",
    "    \n",
    "\n",
    "digite_alguma_coisa()"
   ]
  },
  {
   "cell_type": "code",
   "execution_count": 85,
   "id": "918e97b8",
   "metadata": {},
   "outputs": [],
   "source": [
    "opcao = pos.confirm('Qual botão você quer apertar?', buttons = ['Notepad', 'Instagram', 'Youtube', 'Sair'])\n",
    "\n",
    "if opcao == 'Notepad':\n",
    "    print(digite_alguma_coisa())\n",
    "elif opcao == 'Youtube':\n",
    "    print(check_youtube())\n",
    "elif opcao == 'Instagram':\n",
    "    print(check_instagram())\n",
    "elif opcao == 'Sair':\n",
    "    pos.alert('tinhamu')\n",
    "    "
   ]
  }
 ],
 "metadata": {
  "kernelspec": {
   "display_name": "Python 3 (ipykernel)",
   "language": "python",
   "name": "python3"
  },
  "language_info": {
   "codemirror_mode": {
    "name": "ipython",
    "version": 3
   },
   "file_extension": ".py",
   "mimetype": "text/x-python",
   "name": "python",
   "nbconvert_exporter": "python",
   "pygments_lexer": "ipython3",
   "version": "3.9.13"
  }
 },
 "nbformat": 4,
 "nbformat_minor": 5
}
