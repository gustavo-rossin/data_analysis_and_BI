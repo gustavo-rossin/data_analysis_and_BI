{
 "cells": [
  {
   "cell_type": "code",
   "execution_count": 1,
   "id": "24718416",
   "metadata": {},
   "outputs": [
    {
     "name": "stdout",
     "output_type": "stream",
     "text": [
      "digite APENAS os números de um CEP válido:\n",
      "75340000\n"
     ]
    }
   ],
   "source": [
    "from selenium import webdriver\n",
    "from selenium.webdriver.common.keys import Keys\n",
    "from selenium.webdriver.common.by import By\n",
    "import pyautogui as pag\n",
    "\n",
    "def cep_google():\n",
    "    \n",
    "    cep = input('digite APENAS os números de um CEP válido:\\n')\n",
    "    \n",
    "    navegador = webdriver.Chrome()\n",
    "\n",
    "    navegador.get('https://www.google.com/')\n",
    "    pag.sleep(2)\n",
    "    navegador.find_element(By.NAME, 'q').send_keys('busca cep')\n",
    "    pag.sleep(1)\n",
    "    pag.press('enter')\n",
    "    pag.sleep(2)\n",
    "    xpath_correios = navegador.find_element(By.PARTIAL_LINK_TEXT, 'buscacep').click()\n",
    "    pag.sleep(2)\n",
    "    navegador.find_element(By.NAME, 'endereco').send_keys(cep)\n",
    "    pag.sleep(1)\n",
    "    navegador.find_element(By.NAME, 'endereco').send_keys(Keys.RETURN)\n",
    "    pag.sleep(10)\n",
    "\n",
    "cep_google()"
   ]
  },
  {
   "cell_type": "code",
   "execution_count": 10,
   "id": "9b73f4d3",
   "metadata": {},
   "outputs": [
    {
     "name": "stdout",
     "output_type": "stream",
     "text": [
      "Rua: Rua Engenheiro Humberto Soares Camargo\n",
      "Bairro: Cidade Universitária\n",
      "Cidade: Campinas/SP\n",
      "CEP: 13083-780\n"
     ]
    }
   ],
   "source": [
    "navegador = webdriver.Chrome()\n",
    "\n",
    "navegador.get('https://buscacepinter.correios.com.br/app/endereco/index.php')\n",
    "pag.sleep(3)\n",
    "navegador.find_element(By.NAME, 'endereco').send_keys('13083780')\n",
    "pag.sleep(1)\n",
    "navegador.find_element(By.NAME, 'endereco').send_keys(Keys.RETURN)\n",
    "pag.sleep(1)\n",
    "logradouro = navegador.find_elements(By.XPATH, '//*[@id=\"resultado-DNEC\"]/tbody/tr/td[1]')[0].text\n",
    "bairro = navegador.find_elements(By.XPATH, '//*[@id=\"resultado-DNEC\"]/tbody/tr/td[2]')[0].text\n",
    "cidade = navegador.find_elements(By.XPATH, '//*[@id=\"resultado-DNEC\"]/tbody/tr/td[3]')[0].text\n",
    "cep = navegador.find_elements(By.XPATH, '//*[@id=\"resultado-DNEC\"]/tbody/tr/td[4]')[0].text\n",
    "\n",
    "print('Rua:', logradouro)\n",
    "print('Bairro:', bairro)\n",
    "print('Cidade:', cidade)\n",
    "print('CEP:', cep)\n",
    "\n",
    "#.click() para usar no botao clicãvel da página\n",
    "# navegador.find_element(By.NAME, 'btn_pesquisar').click()"
   ]
  },
  {
   "cell_type": "code",
   "execution_count": 11,
   "id": "f535c560",
   "metadata": {},
   "outputs": [
    {
     "name": "stdout",
     "output_type": "stream",
     "text": [
      "Requirement already satisfied: openpyxl in c:\\users\\gusta\\anaconda3\\lib\\site-packages (3.0.10)\n",
      "Requirement already satisfied: et_xmlfile in c:\\users\\gusta\\anaconda3\\lib\\site-packages (from openpyxl) (1.1.0)\n"
     ]
    },
    {
     "name": "stderr",
     "output_type": "stream",
     "text": [
      "WARNING: Ignoring invalid distribution -rotobuf (c:\\users\\gusta\\anaconda3\\lib\\site-packages)\n",
      "WARNING: Ignoring invalid distribution -atplotlib (c:\\users\\gusta\\anaconda3\\lib\\site-packages)\n",
      "WARNING: Ignoring invalid distribution -rotobuf (c:\\users\\gusta\\anaconda3\\lib\\site-packages)\n",
      "WARNING: Ignoring invalid distribution -atplotlib (c:\\users\\gusta\\anaconda3\\lib\\site-packages)\n",
      "WARNING: Ignoring invalid distribution -rotobuf (c:\\users\\gusta\\anaconda3\\lib\\site-packages)\n",
      "WARNING: Ignoring invalid distribution -atplotlib (c:\\users\\gusta\\anaconda3\\lib\\site-packages)\n",
      "WARNING: Ignoring invalid distribution -rotobuf (c:\\users\\gusta\\anaconda3\\lib\\site-packages)\n",
      "WARNING: Ignoring invalid distribution -atplotlib (c:\\users\\gusta\\anaconda3\\lib\\site-packages)\n",
      "WARNING: Ignoring invalid distribution -rotobuf (c:\\users\\gusta\\anaconda3\\lib\\site-packages)\n",
      "WARNING: Ignoring invalid distribution -atplotlib (c:\\users\\gusta\\anaconda3\\lib\\site-packages)\n",
      "WARNING: Ignoring invalid distribution -rotobuf (c:\\users\\gusta\\anaconda3\\lib\\site-packages)\n",
      "WARNING: Ignoring invalid distribution -atplotlib (c:\\users\\gusta\\anaconda3\\lib\\site-packages)\n"
     ]
    }
   ],
   "source": [
    "!pip install openpyxl"
   ]
  },
  {
   "cell_type": "code",
   "execution_count": 18,
   "id": "7c7cc12a",
   "metadata": {
    "scrolled": true
   },
   "outputs": [
    {
     "name": "stdout",
     "output_type": "stream",
     "text": [
      "Rua: Rua Engenheiro Humberto Soares Camargo\n",
      "Bairro: Cidade Universitária\n",
      "Cidade: Campinas/SP\n",
      "CEP: 13083-780\n",
      "-----\n",
      "Abrindo a planilha...\n",
      "-----\n"
     ]
    },
    {
     "ename": "AttributeError",
     "evalue": "'Workbook' object has no attribute 'save'",
     "output_type": "error",
     "traceback": [
      "\u001b[1;31m---------------------------------------------------------------------------\u001b[0m",
      "\u001b[1;31mAttributeError\u001b[0m                            Traceback (most recent call last)",
      "\u001b[1;32m~\\AppData\\Local\\Temp\\ipykernel_408\\1622936835.py\u001b[0m in \u001b[0;36m<module>\u001b[1;34m\u001b[0m\n\u001b[0;32m     46\u001b[0m \u001b[0mprint\u001b[0m\u001b[1;33m(\u001b[0m\u001b[1;34m'-'\u001b[0m\u001b[1;33m*\u001b[0m\u001b[1;36m5\u001b[0m\u001b[1;33m)\u001b[0m\u001b[1;33m\u001b[0m\u001b[1;33m\u001b[0m\u001b[0m\n\u001b[0;32m     47\u001b[0m \u001b[1;33m\u001b[0m\u001b[0m\n\u001b[1;32m---> 48\u001b[1;33m \u001b[0mcriar_planilha\u001b[0m\u001b[1;33m.\u001b[0m\u001b[0msave\u001b[0m\u001b[1;33m(\u001b[0m\u001b[0mfilename\u001b[0m\u001b[1;33m=\u001b[0m\u001b[0minformacoes_cep\u001b[0m\u001b[1;33m)\u001b[0m\u001b[1;33m\u001b[0m\u001b[1;33m\u001b[0m\u001b[0m\n\u001b[0m\u001b[0;32m     49\u001b[0m \u001b[0mcriar_planilha\u001b[0m\u001b[1;33m.\u001b[0m\u001b[0mclose\u001b[0m\u001b[1;33m(\u001b[0m\u001b[1;33m)\u001b[0m\u001b[1;33m\u001b[0m\u001b[1;33m\u001b[0m\u001b[0m\n\u001b[0;32m     50\u001b[0m \u001b[0mos\u001b[0m\u001b[1;33m.\u001b[0m\u001b[0mstartfile\u001b[0m\u001b[1;33m(\u001b[0m\u001b[0minformacoes_cep\u001b[0m\u001b[1;33m)\u001b[0m\u001b[1;33m\u001b[0m\u001b[1;33m\u001b[0m\u001b[0m\n",
      "\u001b[1;31mAttributeError\u001b[0m: 'Workbook' object has no attribute 'save'"
     ]
    }
   ],
   "source": [
    "# criando arquivo excel para ler um cep especifico\n",
    "\n",
    "from openpyxl import load_workbook\n",
    "import os\n",
    "import xlsxwriter as xw\n",
    "\n",
    "informacoes_cep = 'informacoes_cep.xlsx'\n",
    "\n",
    "criar_planilha = xw.Workbook(informacoes_cep)\n",
    "\n",
    "planilha_dados = criar_planilha.add_worksheet('Dados')\n",
    "\n",
    "planilha_dados.write('A1', 'logradouro')\n",
    "planilha_dados.write('B1', 'bairro')\n",
    "planilha_dados.write('C1', 'cidade')\n",
    "planilha_dados.write('D1', 'cep')\n",
    "\n",
    "\n",
    "\n",
    "navegador = webdriver.Chrome()\n",
    "\n",
    "navegador.get('https://buscacepinter.correios.com.br/app/endereco/index.php')\n",
    "pag.sleep(3)\n",
    "navegador.find_element(By.NAME, 'endereco').send_keys('13083780')\n",
    "pag.sleep(1)\n",
    "navegador.find_element(By.NAME, 'btn_pesquisar').click()\n",
    "pag.sleep(1)\n",
    "logradouro = navegador.find_elements(By.XPATH, '//*[@id=\"resultado-DNEC\"]/tbody/tr/td[1]')[0].text\n",
    "bairro = navegador.find_elements(By.XPATH, '//*[@id=\"resultado-DNEC\"]/tbody/tr/td[2]')[0].text\n",
    "cidade = navegador.find_elements(By.XPATH, '//*[@id=\"resultado-DNEC\"]/tbody/tr/td[3]')[0].text\n",
    "cep = navegador.find_elements(By.XPATH, '//*[@id=\"resultado-DNEC\"]/tbody/tr/td[4]')[0].text\n",
    "\n",
    "print('Rua:', logradouro)\n",
    "print('Bairro:', bairro)\n",
    "print('Cidade:', cidade)\n",
    "print('CEP:', cep)\n",
    "\n",
    "for n in range(2,3):\n",
    "    planilha_dados.write('A' + str(n), logradouro)\n",
    "    planilha_dados.write('B' + str(n), bairro)\n",
    "    planilha_dados.write('C' + str(n), cidade)\n",
    "    planilha_dados.write('D' + str(n), cep)\n",
    "\n",
    "\n",
    "pag.sleep(1)\n",
    "print('-'*5)\n",
    "print('Abrindo a planilha...')\n",
    "print('-'*5)\n",
    "\n",
    "criar_planilha.close()\n",
    "os.startfile(informacoes_cep)\n",
    "\n"
   ]
  },
  {
   "cell_type": "code",
   "execution_count": 94,
   "id": "53b1df47",
   "metadata": {
    "scrolled": true
   },
   "outputs": [
    {
     "name": "stdout",
     "output_type": "stream",
     "text": [
      "Digite o 1o CEP válido:\n",
      "13083780\n",
      "Digite o 2o CEP válido:\n",
      "75340000\n",
      "['13083780', '75340000']\n",
      "multiplos_ceps.xlsx\n",
      "Adicionando o CEP 13083780 na planilha...\n",
      "Adicionando o CEP 75340000 na planilha...\n",
      "13083780\n",
      "Rua: Rua Engenheiro Humberto Soares Camargo\n",
      "Bairro: Cidade Universitária\n",
      "Cidade: Campinas/SP\n",
      "CEP: 13083-780\n"
     ]
    },
    {
     "ename": "AttributeError",
     "evalue": "'Worksheet' object has no attribute 'save'",
     "output_type": "error",
     "traceback": [
      "\u001b[1;31m---------------------------------------------------------------------------\u001b[0m",
      "\u001b[1;31mAttributeError\u001b[0m                            Traceback (most recent call last)",
      "\u001b[1;32m~\\AppData\\Local\\Temp\\ipykernel_408\\1476516007.py\u001b[0m in \u001b[0;36m<module>\u001b[1;34m\u001b[0m\n\u001b[0;32m     88\u001b[0m \u001b[1;33m\u001b[0m\u001b[0m\n\u001b[0;32m     89\u001b[0m \u001b[1;33m\u001b[0m\u001b[0m\n\u001b[1;32m---> 90\u001b[1;33m \u001b[0mdigite_ceps\u001b[0m\u001b[1;33m(\u001b[0m\u001b[1;34m'multiplos_ceps'\u001b[0m\u001b[1;33m)\u001b[0m\u001b[1;33m\u001b[0m\u001b[1;33m\u001b[0m\u001b[0m\n\u001b[0m",
      "\u001b[1;32m~\\AppData\\Local\\Temp\\ipykernel_408\\1476516007.py\u001b[0m in \u001b[0;36mdigite_ceps\u001b[1;34m(nome_planilha)\u001b[0m\n\u001b[0;32m     71\u001b[0m         \u001b[0mCEPs_inputados\u001b[0m\u001b[1;33m[\u001b[0m\u001b[1;34m'C'\u001b[0m \u001b[1;33m+\u001b[0m \u001b[0mstr\u001b[0m\u001b[1;33m(\u001b[0m\u001b[0mlinha\u001b[0m\u001b[1;33m)\u001b[0m\u001b[1;33m]\u001b[0m \u001b[1;33m=\u001b[0m \u001b[0mcidade\u001b[0m\u001b[1;33m\u001b[0m\u001b[1;33m\u001b[0m\u001b[0m\n\u001b[0;32m     72\u001b[0m         \u001b[0mCEPs_inputados\u001b[0m\u001b[1;33m[\u001b[0m\u001b[1;34m'D'\u001b[0m \u001b[1;33m+\u001b[0m \u001b[0mstr\u001b[0m\u001b[1;33m(\u001b[0m\u001b[0mlinha\u001b[0m\u001b[1;33m)\u001b[0m\u001b[1;33m]\u001b[0m \u001b[1;33m=\u001b[0m \u001b[0mcep\u001b[0m\u001b[1;33m\u001b[0m\u001b[1;33m\u001b[0m\u001b[0m\n\u001b[1;32m---> 73\u001b[1;33m         \u001b[0mCEPs_inputados\u001b[0m\u001b[1;33m.\u001b[0m\u001b[0msave\u001b[0m\u001b[1;33m(\u001b[0m\u001b[1;33m)\u001b[0m\u001b[1;33m\u001b[0m\u001b[1;33m\u001b[0m\u001b[0m\n\u001b[0m\u001b[0;32m     74\u001b[0m         \u001b[0mpag\u001b[0m\u001b[1;33m.\u001b[0m\u001b[0msleep\u001b[0m\u001b[1;33m(\u001b[0m\u001b[1;36m1\u001b[0m\u001b[1;33m)\u001b[0m\u001b[1;33m\u001b[0m\u001b[1;33m\u001b[0m\u001b[0m\n\u001b[0;32m     75\u001b[0m         \u001b[0mnavegador\u001b[0m\u001b[1;33m.\u001b[0m\u001b[0mfind_element\u001b[0m\u001b[1;33m(\u001b[0m\u001b[0mBy\u001b[0m\u001b[1;33m.\u001b[0m\u001b[0mID\u001b[0m\u001b[1;33m,\u001b[0m \u001b[1;34m'btn_nbusca'\u001b[0m\u001b[1;33m)\u001b[0m\u001b[1;33m.\u001b[0m\u001b[0mclick\u001b[0m\u001b[1;33m(\u001b[0m\u001b[1;33m)\u001b[0m\u001b[1;33m\u001b[0m\u001b[1;33m\u001b[0m\u001b[0m\n",
      "\u001b[1;31mAttributeError\u001b[0m: 'Worksheet' object has no attribute 'save'"
     ]
    }
   ],
   "source": [
    "#Pedir para uma pessoa digitar 3 CEPs, buscar na pagina dos correios essas infos e depois criar um excel com estes ceps.\n",
    "import os\n",
    "import pyautogui as pag\n",
    "import xlsxwriter as xw\n",
    "from openpyxl import load_workbook\n",
    "from selenium import webdriver\n",
    "from selenium.webdriver.common.keys import Keys\n",
    "from selenium.webdriver.common.by import By\n",
    "\n",
    "\n",
    "def digite_ceps(nome_planilha):\n",
    "    \n",
    "    ## 1. criação do while de contador de CEPs desejado\n",
    "    contador = 1\n",
    "    lista_cep = []\n",
    "    while contador <= 2:\n",
    "        input_cep = input(f'Digite o {contador}o CEP válido:\\n')\n",
    "        lista_cep.append(input_cep)\n",
    "        contador += 1\n",
    "    print(lista_cep)\n",
    "        \n",
    "    ## 2. criação do arquivo excel, sheets de Dados (que serão trazidos do site dos correios) e sheets de ceps inputados pelo usuário.\n",
    "    informacoes_cep = nome_planilha + '.xlsx'\n",
    "    print(informacoes_cep)\n",
    "\n",
    "    criar_planilha = xw.Workbook(informacoes_cep)\n",
    "\n",
    "    planilha_ceps_inputados = criar_planilha.add_worksheet('CEPs Inputados')\n",
    "    planilha_dados = criar_planilha.add_worksheet('Dados')\n",
    "    \n",
    "    \n",
    "    planilha_ceps_inputados.write('A1', 'CEP Válido')\n",
    "    planilha_dados.write('A1', 'logradouro')\n",
    "    planilha_dados.write('B1', 'bairro')\n",
    "    planilha_dados.write('C1', 'cidade')\n",
    "    planilha_dados.write('D1', 'cep')\n",
    "    \n",
    "    for num_cep in lista_cep:\n",
    "        planilha_ceps_inputados.write('A' + str(lista_cep.index(num_cep) + 2), num_cep)\n",
    "        print(f'Adicionando o CEP {num_cep} na planilha...')\n",
    "        pag.sleep(1)\n",
    "\n",
    "    criar_planilha.close() \n",
    "    ## 3. Utilizar openpyxl para trazer as informações do input do usuário da planilha para a preparação do selenium\n",
    "    pag.sleep(3)\n",
    "    carregando_planilha_cep = load_workbook(informacoes_cep)\n",
    "    CEPs_inputados = carregando_planilha_cep['CEPs Inputados']\n",
    "    \n",
    "    navegador = webdriver.Chrome()\n",
    "    navegador.get('https://buscacepinter.correios.com.br/app/endereco/index.php')\n",
    "    pag.sleep(3)\n",
    "    \n",
    "    for linha in range(2, len(CEPs_inputados['A']) + 1):\n",
    "        print(CEPs_inputados['A'+ str(linha)].value)\n",
    "        navegador.find_element(By.NAME, 'endereco').send_keys(CEPs_inputados['A'+ str(linha)].value)\n",
    "        pag.sleep(1)\n",
    "        navegador.find_element(By.NAME, 'btn_pesquisar').click()\n",
    "        pag.sleep(1)\n",
    "        logradouro = navegador.find_elements(By.XPATH, '//*[@id=\"resultado-DNEC\"]/tbody/tr/td[1]')[0].text\n",
    "        bairro = navegador.find_elements(By.XPATH, '//*[@id=\"resultado-DNEC\"]/tbody/tr/td[2]')[0].text\n",
    "        cidade = navegador.find_elements(By.XPATH, '//*[@id=\"resultado-DNEC\"]/tbody/tr/td[3]')[0].text\n",
    "        cep = navegador.find_elements(By.XPATH, '//*[@id=\"resultado-DNEC\"]/tbody/tr/td[4]')[0].text\n",
    "        \n",
    "        print('Rua:', logradouro)\n",
    "        print('Bairro:', bairro)\n",
    "        print('Cidade:', cidade)\n",
    "        print('CEP:', cep)\n",
    "\n",
    "        CEPs_inputados['A' + str(linha)] = logradouro\n",
    "        CEPs_inputados['B' + str(linha)] = bairro\n",
    "        CEPs_inputados['C' + str(linha)] = cidade\n",
    "        CEPs_inputados['D' + str(linha)] = cep\n",
    "        \n",
    "        pag.sleep(1)\n",
    "        navegador.find_element(By.ID, 'btn_nbusca').click()\n",
    "        pag.sleep(1)\n",
    "    \n",
    "    \n",
    "    \n",
    "    pag.sleep(2)\n",
    "    print('-'*5)\n",
    "    print('Abrindo a planilha...')\n",
    "    print('-'*5)\n",
    "    pag.sleep(3)\n",
    "    os.startfile(informacoes_cep)\n",
    "\n",
    "\n",
    "\n",
    "\n",
    "digite_ceps('multiplos_ceps')"
   ]
  },
  {
   "cell_type": "code",
   "execution_count": 24,
   "id": "5c379c9d",
   "metadata": {},
   "outputs": [
    {
     "name": "stdout",
     "output_type": "stream",
     "text": [
      "Digite o 1o CEP válido:\n",
      "123\n",
      "Digite o 2o CEP válido:\n",
      "456\n",
      "Digite o 3o CEP válido:\n",
      "123456\n",
      "['123', '456', '123456']\n"
     ]
    }
   ],
   "source": [
    "contador = 1\n",
    "lista_cep = []\n",
    "while contador <= 3:\n",
    "    input_cep = input(f'Digite o {contador}o CEP válido:\\n')\n",
    "    lista_cep.append(input_cep)\n",
    "    contador += 1\n",
    "print(lista_cep) "
   ]
  },
  {
   "cell_type": "code",
   "execution_count": 37,
   "id": "c21a3038",
   "metadata": {},
   "outputs": [
    {
     "name": "stdout",
     "output_type": "stream",
     "text": [
      "A1 123\n",
      "A2 123444\n",
      "A3 913183\n"
     ]
    }
   ],
   "source": [
    "lista = ['123', '123444', '913183']\n",
    "\n",
    "for n in lista:\n",
    "    print('A' + str(lista.index(n) + 1), n)"
   ]
  }
 ],
 "metadata": {
  "kernelspec": {
   "display_name": "Python 3 (ipykernel)",
   "language": "python",
   "name": "python3"
  },
  "language_info": {
   "codemirror_mode": {
    "name": "ipython",
    "version": 3
   },
   "file_extension": ".py",
   "mimetype": "text/x-python",
   "name": "python",
   "nbconvert_exporter": "python",
   "pygments_lexer": "ipython3",
   "version": "3.9.13"
  }
 },
 "nbformat": 4,
 "nbformat_minor": 5
}
