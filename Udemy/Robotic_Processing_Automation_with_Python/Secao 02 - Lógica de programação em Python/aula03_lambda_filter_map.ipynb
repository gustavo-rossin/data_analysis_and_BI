{
 "cells": [
  {
   "cell_type": "code",
   "execution_count": 2,
   "id": "5b826b8d",
   "metadata": {},
   "outputs": [
    {
     "name": "stdout",
     "output_type": "stream",
     "text": [
      "[2, 4, 6, 8, 10, 12]\n"
     ]
    }
   ],
   "source": [
    "numeros = [1, 2, 3, 4, 5, 6, 7, 8, 9, 10, 11, 12]\n",
    "\n",
    "numeros_pares = list(filter(lambda x: x % 2 ==0, numeros))\n",
    "\n",
    "print(numeros_pares)"
   ]
  },
  {
   "cell_type": "code",
   "execution_count": 16,
   "id": "9e24a39d",
   "metadata": {},
   "outputs": [
    {
     "name": "stdout",
     "output_type": "stream",
     "text": [
      "['Regis', 'Reginaldo']\n"
     ]
    },
    {
     "data": {
      "text/plain": [
       "['Ana', 'Arnaldo', 'Antonio', 'Antonella']"
      ]
     },
     "execution_count": 16,
     "metadata": {},
     "output_type": "execute_result"
    }
   ],
   "source": [
    "nomes = ['Gustavo', 'Ana', 'Arnaldo', 'Antonio', 'Sergio', 'Regis', 'Reginaldo', 'Antonella']\n",
    "\n",
    "nomes_R = []\n",
    "\n",
    "for r in nomes:\n",
    "    if r.startswith('R'):\n",
    "        nomes_R.append(r)\n",
    "print(nomes_R)\n",
    "\n",
    "nomes_A = list(filter(lambda x: x.startswith('A'), nomes))\n",
    "\n",
    "nomes_A"
   ]
  },
  {
   "cell_type": "code",
   "execution_count": 19,
   "id": "3be33c0d",
   "metadata": {},
   "outputs": [
    {
     "data": {
      "text/plain": [
       "[1, 4, 9, 16, 25, 36]"
      ]
     },
     "execution_count": 19,
     "metadata": {},
     "output_type": "execute_result"
    }
   ],
   "source": [
    "lista_num = [1, 2, 3, 4, 5, 6]\n",
    "\n",
    "lista_elevada = list(map(lambda x: x**2, lista_num))\n",
    "\n",
    "lista_elevada"
   ]
  },
  {
   "cell_type": "code",
   "execution_count": 20,
   "id": "9f7ccd04",
   "metadata": {},
   "outputs": [
    {
     "data": {
      "text/plain": [
       "[7, 3, 7, 7, 6, 5, 9, 9]"
      ]
     },
     "execution_count": 20,
     "metadata": {},
     "output_type": "execute_result"
    }
   ],
   "source": [
    "nomes_caracteres = list(map(lambda x: len(x), nomes))\n",
    "\n",
    "nomes_caracteres"
   ]
  },
  {
   "cell_type": "code",
   "execution_count": 22,
   "id": "7f3d683e",
   "metadata": {},
   "outputs": [
    {
     "name": "stdout",
     "output_type": "stream",
     "text": [
      "[5, 15, 23, 25, 19]\n",
      "[25, 225, 529, 625, 361]\n"
     ]
    }
   ],
   "source": [
    "#pegar numeros impares de uma lista\n",
    "\n",
    "lista_numerica = [2, 5, 8, 10, 12, 15, 18, 20, 23, 124, 25, 28, 19]\n",
    "\n",
    "impar = list(filter(lambda x: x % 2 == 1, lista_numerica))\n",
    "\n",
    "print(impar)\n",
    "\n",
    "quadrado_impar = list(map(lambda x: x ** 2, impar))\n",
    "\n",
    "print(quadrado_impar)"
   ]
  },
  {
   "cell_type": "code",
   "execution_count": 33,
   "id": "34c3284b",
   "metadata": {},
   "outputs": [
    {
     "name": "stdout",
     "output_type": "stream",
     "text": [
      "lista randômica: [8, 11, 11, 15, 11]\n",
      "numeros ímpares: [11, 11, 15, 11]\n",
      "quadrado dos números ímpares: [121, 121, 225, 121]\n"
     ]
    }
   ],
   "source": [
    "import random\n",
    "\n",
    "random_list = []\n",
    "\n",
    "for i in range(1, 6):\n",
    "    random_number = random.randint(i, i*10)\n",
    "    random_list.append(random_number)\n",
    "print('lista randômica:', random_list)\n",
    "\n",
    "encontrar_impar = list(filter(lambda x: x % 2 == 1, random_list))\n",
    "\n",
    "print('numeros ímpares:', encontrar_impar)\n",
    "\n",
    "quadrado = list(map(lambda x: x**2, encontrar_impar))\n",
    "\n",
    "print('quadrado dos números ímpares:', quadrado)"
   ]
  },
  {
   "cell_type": "code",
   "execution_count": 45,
   "id": "12b555b9",
   "metadata": {},
   "outputs": [
    {
     "name": "stdout",
     "output_type": "stream",
     "text": [
      "[1, 220, 391, 913, 19, 29, 10]\n",
      "[1, 10, 19, 29, 220, 391, 913]\n",
      "[913, 391, 220, 29, 19, 10, 1]\n",
      "6\n",
      "2\n"
     ]
    }
   ],
   "source": [
    "numbers = [1, 220, 391, 913, 19, 29, 10]\n",
    "print(numbers)\n",
    "numbers.sort()\n",
    "print(numbers)\n",
    "numbers.sort(reverse = True)\n",
    "print(numbers)\n",
    "\n",
    "\n",
    "try:\n",
    "    check_numbers = [1, 220]\n",
    "    \n",
    "    for i in check_numbers:\n",
    "        print(numbers.index(i))  \n",
    "except ValueError:\n",
    "    print('o numero nao está na lista')"
   ]
  },
  {
   "cell_type": "code",
   "execution_count": 50,
   "id": "ae537700",
   "metadata": {},
   "outputs": [
    {
     "data": {
      "text/plain": [
       "['P', 'y', 't', 'h', 'o', 'n']"
      ]
     },
     "execution_count": 50,
     "metadata": {},
     "output_type": "execute_result"
    }
   ],
   "source": [
    "palavra = 'Python'\n",
    "\n",
    "splittada = list(palavra)\n",
    "\n",
    "splittada"
   ]
  },
  {
   "cell_type": "code",
   "execution_count": null,
   "id": "8d3441f6",
   "metadata": {},
   "outputs": [],
   "source": []
  }
 ],
 "metadata": {
  "kernelspec": {
   "display_name": "Python 3 (ipykernel)",
   "language": "python",
   "name": "python3"
  },
  "language_info": {
   "codemirror_mode": {
    "name": "ipython",
    "version": 3
   },
   "file_extension": ".py",
   "mimetype": "text/x-python",
   "name": "python",
   "nbconvert_exporter": "python",
   "pygments_lexer": "ipython3",
   "version": "3.9.13"
  }
 },
 "nbformat": 4,
 "nbformat_minor": 5
}
