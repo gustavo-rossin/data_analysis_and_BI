{
 "cells": [
  {
   "cell_type": "code",
   "execution_count": 2,
   "id": "b7971ed4",
   "metadata": {},
   "outputs": [],
   "source": [
    "import random"
   ]
  },
  {
   "cell_type": "code",
   "execution_count": 85,
   "id": "992b6583",
   "metadata": {},
   "outputs": [
    {
     "name": "stdout",
     "output_type": "stream",
     "text": [
      "EITA! SAO OS MESMOS VALORES! num_aleatorio1 == num_aleatorio2 ----> [7] == [7]\n"
     ]
    }
   ],
   "source": [
    "num_aleatorio1 = random.randint(1, 30)\n",
    "num_aleatorio2 = random.randint(5, 15)\n",
    "\n",
    "if num_aleatorio1 > num_aleatorio2:\n",
    "    print(f\"o número aleatório 1 [{num_aleatorio1}] é maior do que o número aleatório 2 [{num_aleatorio2}]\")\n",
    "    \n",
    "elif num_aleatorio1 == num_aleatorio2:\n",
    "    print(f'EITA! SAO OS MESMOS VALORES! num_aleatorio1 == num_aleatorio2 ----> [{num_aleatorio1}] == [{num_aleatorio2}]')\n",
    "else:\n",
    "    print(f\"o número aleatório 2 [{num_aleatorio2}] é maior do que o número aleatório 1 [{num_aleatorio1}]\")"
   ]
  },
  {
   "cell_type": "code",
   "execution_count": 86,
   "id": "5ff9b3f8",
   "metadata": {},
   "outputs": [
    {
     "name": "stdout",
     "output_type": "stream",
     "text": [
      "Infantil\n",
      "Infantil\n",
      "Adolescente\n",
      "Adulto\n",
      "Véio\n",
      "Idade inválida\n"
     ]
    }
   ],
   "source": [
    "def faixa_etaria(idade: int):\n",
    "    if 0 <= idade <= 12:\n",
    "        print('Infantil')\n",
    "    elif 12 < idade <= 17:\n",
    "        print('Adolescente')\n",
    "    elif 17 < idade <= 59:\n",
    "        print('Adulto')\n",
    "    elif idade < 0:\n",
    "        print('Idade inválida')\n",
    "    else:\n",
    "        print('Véio')\n",
    "        \n",
    "faixa_etaria(0)\n",
    "faixa_etaria(12)\n",
    "faixa_etaria(15)\n",
    "faixa_etaria(54)\n",
    "faixa_etaria(66)\n",
    "faixa_etaria(-10)"
   ]
  },
  {
   "cell_type": "code",
   "execution_count": 88,
   "id": "a04cd895",
   "metadata": {},
   "outputs": [
    {
     "name": "stdout",
     "output_type": "stream",
     "text": [
      "O numero impresso é 1\n",
      "O numero impresso é 5\n",
      "O numero impresso é 9\n",
      "O numero impresso é 13\n",
      "O numero impresso é 17\n",
      "O numero impresso é 21\n",
      "O numero impresso é 25\n",
      "O numero impresso é 29\n",
      "O numero impresso é 33\n",
      "O numero impresso é 37\n",
      "O numero impresso é 41\n",
      "O numero impresso é 45\n",
      "O numero impresso é 49\n",
      "O numero impresso é 53\n",
      "O numero impresso é 57\n",
      "O numero impresso é 61\n",
      "O numero impresso é 65\n",
      "O numero impresso é 69\n",
      "O numero impresso é 73\n",
      "O numero impresso é 77\n",
      "O numero impresso é 81\n",
      "O numero impresso é 85\n",
      "Término da contagem!\n"
     ]
    }
   ],
   "source": [
    "def contador(numero, limite, steps):\n",
    "    while numero < limite:\n",
    "        print(f'O numero impresso é {numero}')\n",
    "        numero += steps\n",
    "    else:\n",
    "        print('Término da contagem!')\n",
    "        \n",
    "        \n",
    "contador(1, 87, 4)"
   ]
  },
  {
   "cell_type": "code",
   "execution_count": 97,
   "id": "ee0a9de1",
   "metadata": {},
   "outputs": [
    {
     "name": "stdout",
     "output_type": "stream",
     "text": [
      "0 2 4 6 8 10 12 14 16 18 20 22 24 26 28 30 32 34 36 38 "
     ]
    }
   ],
   "source": [
    "def numeros_pares(numero_inputado, steps):\n",
    "    numero_iteravel = 0\n",
    "    while numero_iteravel < numero_inputado:\n",
    "        if numero_iteravel % 2 == 0:\n",
    "            print(numero_iteravel, end = \" \")\n",
    "        numero_iteravel += steps\n",
    "\n",
    "numeros_pares(40, 1)"
   ]
  },
  {
   "cell_type": "code",
   "execution_count": 96,
   "id": "fd0d7e0c",
   "metadata": {},
   "outputs": [
    {
     "data": {
      "text/plain": [
       "[0, 2, 4, 6, 8, 10, 12, 14, 16, 18, 20, 22, 24, 26, 28, 30, 32, 34, 36, 38]"
      ]
     },
     "execution_count": 96,
     "metadata": {},
     "output_type": "execute_result"
    }
   ],
   "source": [
    "def numeros_pares_lista(numero_inputado, steps):\n",
    "    numero_iteravel = 0\n",
    "    new_list = []\n",
    "    while numero_iteravel < numero_inputado:\n",
    "        if numero_iteravel % 2 == 0:\n",
    "            new_list.append(numero_iteravel)\n",
    "        numero_iteravel += steps\n",
    "    \n",
    "    return new_list\n",
    "\n",
    "numeros_pares_lista(40, 1)"
   ]
  },
  {
   "cell_type": "code",
   "execution_count": 105,
   "id": "4989b6bf",
   "metadata": {},
   "outputs": [
    {
     "name": "stdout",
     "output_type": "stream",
     "text": [
      "10\n",
      "23\n",
      "18\n",
      "A SENHA 13 ESTÁ SENDO CHAMADA\n"
     ]
    }
   ],
   "source": [
    "def comanda_restaurante(senha_comanda):\n",
    "    senha_chamada = random.randint(10, 30)\n",
    "    while senha_chamada != senha_comanda:\n",
    "        print(senha_chamada)\n",
    "        senha_chamada = random.randint(10, 30)\n",
    "        if senha_chamada == senha_comanda:\n",
    "            print(f'A SENHA {senha_comanda} ESTÁ SENDO CHAMADA')\n",
    "            break\n",
    "\n",
    "comanda_restaurante(13)\n",
    "    "
   ]
  },
  {
   "cell_type": "code",
   "execution_count": 107,
   "id": "ebc8b091",
   "metadata": {},
   "outputs": [
    {
     "name": "stdout",
     "output_type": "stream",
     "text": [
      "Digite sua senha: \n",
      "Maikel\n",
      "SENHA INCORRETA, TENTE NOVAMENTE\n",
      "Digite sua senha: \n",
      "Maikelele\n",
      "Senha correta. Acesso liberado.\n"
     ]
    }
   ],
   "source": [
    "def senha_login():\n",
    "    senha = input('Digite sua senha: \\n')\n",
    "    senha_sistema = 'Maikelele'\n",
    "    \n",
    "    while senha != senha_sistema:\n",
    "        print('SENHA INCORRETA, TENTE NOVAMENTE')\n",
    "        \n",
    "        senha = input('Digite sua senha: \\n')\n",
    "    \n",
    "    print('Senha correta. Acesso liberado.')\n",
    "    \n",
    "senha_login()"
   ]
  },
  {
   "cell_type": "code",
   "execution_count": 113,
   "id": "c67974e6",
   "metadata": {
    "scrolled": true
   },
   "outputs": [
    {
     "name": "stdout",
     "output_type": "stream",
     "text": [
      "Digite um número: 22\n",
      "DICAAAA: O número secreto é MENOR.\n",
      "Digite um número: 2\n",
      "DICAAAA: O número secreto é MAIOR.\n",
      "Digite um número: 12\n",
      "DICAAAA: O número secreto é MENOR.\n",
      "Digite um número: 9\n",
      "DICAAAA: O número secreto é MAIOR.\n",
      "Digite um número: 10\n",
      "VOCÊ ACERTOU!!!! Você precisou de 5 tentativas!\n"
     ]
    }
   ],
   "source": [
    "# ACERTE O NUMERO!\n",
    "\n",
    "def acerte_o_numero(maximo_numero_secreto: int):\n",
    "\n",
    "    numero_secreto = random.randint(1, maximo_numero_secreto)\n",
    "\n",
    "    tentativas = 0\n",
    "\n",
    "    while True:\n",
    "        palpite = int(input('Digite um número: '))\n",
    "        tentativas += 1\n",
    "\n",
    "        if palpite < numero_secreto:\n",
    "            print('DICAAAA: O número secreto é MAIOR.')\n",
    "\n",
    "        elif palpite > numero_secreto:\n",
    "            print('DICAAAA: O número secreto é MENOR.')\n",
    "\n",
    "        else:\n",
    "            print(f'VOCÊ ACERTOU!!!! Você precisou de {tentativas} tentativas!')\n",
    "            break\n",
    "            \n",
    "acerte_o_numero(40)"
   ]
  },
  {
   "cell_type": "code",
   "execution_count": 115,
   "id": "58e3f470",
   "metadata": {},
   "outputs": [
    {
     "name": "stdout",
     "output_type": "stream",
     "text": [
      "Digite um número: \n",
      "2\n",
      "Digite um número: \n",
      "3\n",
      "Digite um número: \n",
      "0\n",
      "A soma total deu: 5\n"
     ]
    }
   ],
   "source": [
    "soma = 0\n",
    "\n",
    "while True:\n",
    "    valor_inputado = int(input('Digite um número: \\n'))\n",
    "    if valor_inputado != 0:\n",
    "        soma += valor_inputado\n",
    "    else:\n",
    "        print(f'A soma total deu: {soma}')\n",
    "        break"
   ]
  },
  {
   "cell_type": "code",
   "execution_count": 118,
   "id": "4d2bc4f6",
   "metadata": {},
   "outputs": [
    {
     "name": "stdout",
     "output_type": "stream",
     "text": [
      "Digite um número: \n",
      "201931\n",
      "Digite um número: \n",
      "123123\n",
      "Digite um número: \n",
      "333\n",
      "Digite um número: \n",
      "222222\n",
      "Digite um número: \n",
      "1113\n",
      "Digite um número: \n",
      "0\n",
      "A lista [201931, 123123, 333, 222222, 1113] está com o maior numero = 222222 e MENOR numero 333\n"
     ]
    }
   ],
   "source": [
    "#maior e menor numero da lista\n",
    "new_list = []\n",
    "while True:\n",
    "    valor_inputado = int(input('Digite um número: \\n'))\n",
    "    \n",
    "    if valor_inputado != 0:\n",
    "        new_list.append(valor_inputado)\n",
    "        \n",
    "    else:\n",
    "        print(f'A lista {new_list} está com o maior numero = {max(new_list)} e MENOR numero {min(new_list)}')\n",
    "        break\n",
    "    "
   ]
  },
  {
   "cell_type": "code",
   "execution_count": 27,
   "id": "0f3cd9c5",
   "metadata": {},
   "outputs": [
    {
     "name": "stdout",
     "output_type": "stream",
     "text": [
      "\n",
      "Caixa Eletrônico. Digite uma das opções abaixo:\n",
      "1 - Verificar Saldo\n",
      "2 - Depositar\n",
      "3 - Sacar\n",
      "4 - Sair\n",
      "\n",
      "Qual opção você deseja? \n",
      "2\n",
      "Qual a quantia a ser depositada? \n",
      "200\n",
      "Você realmente deseja fazer esse deposito? (s/n) \n",
      "s\n",
      "Saldo ATUALIZADO.\n",
      "Saldo Atual: 1200\n",
      "Obrigado por utilizar esse serviço.\n",
      "\n",
      "Caixa Eletrônico. Digite uma das opções abaixo:\n",
      "1 - Verificar Saldo\n",
      "2 - Depositar\n",
      "3 - Sacar\n",
      "4 - Sair\n",
      "\n",
      "Qual opção você deseja? \n",
      "1\n",
      "Saldo Atual: 1200.00\n",
      "Obrigado por utilizar esse serviço.\n",
      "\n",
      "Caixa Eletrônico. Digite uma das opções abaixo:\n",
      "1 - Verificar Saldo\n",
      "2 - Depositar\n",
      "3 - Sacar\n",
      "4 - Sair\n",
      "\n",
      "Qual opção você deseja? \n",
      "3\n",
      "Qual a quantia a ser SACADA? \n",
      "900\n",
      "Você realmente deseja fazer esse deposito? (s/n) \n",
      "s\n",
      "Saldo ATUALIZADO.\n",
      "Saldo Atual: 300\n",
      "Obrigado por utilizar esse serviço.\n",
      "\n",
      "Caixa Eletrônico. Digite uma das opções abaixo:\n",
      "1 - Verificar Saldo\n",
      "2 - Depositar\n",
      "3 - Sacar\n",
      "4 - Sair\n",
      "\n",
      "Qual opção você deseja? \n",
      "1\n",
      "Saldo Atual: 300.00\n",
      "Obrigado por utilizar esse serviço.\n",
      "\n",
      "Caixa Eletrônico. Digite uma das opções abaixo:\n",
      "1 - Verificar Saldo\n",
      "2 - Depositar\n",
      "3 - Sacar\n",
      "4 - Sair\n",
      "\n",
      "Qual opção você deseja? \n",
      "4\n",
      "Obrigado por utilizar esse serviço.\n"
     ]
    }
   ],
   "source": [
    "#Caixa eletrônico\n",
    "\n",
    "saldo = 1000\n",
    "\n",
    "while True:\n",
    "    print(\"\"\"\n",
    "Caixa Eletrônico. Digite uma das opções abaixo:\n",
    "1 - Verificar Saldo\n",
    "2 - Depositar\n",
    "3 - Sacar\n",
    "4 - Sair\n",
    "\"\"\")\n",
    "    opcao = int(input(\"Qual opção você deseja? \\n\"))\n",
    "\n",
    "    if opcao == 1:\n",
    "        print(f'Saldo Atual: {saldo:.2f}')\n",
    "        print('Obrigado por utilizar esse serviço.')\n",
    "        \n",
    "    elif opcao == 2:\n",
    "        deposito = int(input(\"Qual a quantia a ser depositada? \\n\"))\n",
    "        pergunta = input('Você realmente deseja fazer esse deposito? (s/n) \\n')\n",
    "        if pergunta == 's' and deposito > 0:\n",
    "            saldo += deposito\n",
    "            print('Saldo ATUALIZADO.')\n",
    "            print(f'Saldo Atual: {saldo}')\n",
    "            print('Obrigado por utilizar esse serviço.')\n",
    "        else:\n",
    "            print('Saldo NÃO atualizado.')\n",
    "            print(f'Saldo Atual: {saldo}')\n",
    "            print('Obrigado por utilizar esse serviço.')\n",
    "            break\n",
    "            \n",
    "    elif opcao == 3:\n",
    "        sacar = int(input(\"Qual a quantia a ser SACADA? \\n\"))\n",
    "        pergunta = input('Você realmente deseja fazer esse deposito? (s/n) \\n')\n",
    "        if pergunta == 's' and sacar <= saldo:\n",
    "            saldo -= sacar\n",
    "            print('Saldo ATUALIZADO.')\n",
    "            print(f'Saldo Atual: {saldo}')\n",
    "            print('Obrigado por utilizar esse serviço.')\n",
    "        else:\n",
    "            print('Saldo NÃO atualizado.')\n",
    "            print(f'Saldo Atual: {saldo}')\n",
    "            print('Obrigado por utilizar esse serviço.')\n",
    "            break\n",
    "            \n",
    "    elif opcao == 4:\n",
    "        print('Obrigado por utilizar esse serviço.')\n",
    "        break\n",
    "            \n",
    "    else:\n",
    "        print('Opção inválida. Tente novamente!')\n"
   ]
  },
  {
   "cell_type": "code",
   "execution_count": 33,
   "id": "c0250048",
   "metadata": {},
   "outputs": [
    {
     "name": "stdout",
     "output_type": "stream",
     "text": [
      "\n",
      "Calculadora Simples. Digite o cálculo a ser realizado e depois os números.\n",
      "\n",
      "1 - Soma\n",
      "2 - Subtração\n",
      "3 - Multiplicação\n",
      "4 - Divisão\n",
      "5 - Sair\n",
      "\n",
      "Qual opção você deseja? \n",
      "1\n",
      "Primeiro número: \n",
      "20\n",
      "Segundo número: \n",
      "20\n",
      "20.0 + 20.0 = 40.0\n",
      "\n",
      "Calculadora Simples. Digite o cálculo a ser realizado e depois os números.\n",
      "\n",
      "1 - Soma\n",
      "2 - Subtração\n",
      "3 - Multiplicação\n",
      "4 - Divisão\n",
      "5 - Sair\n",
      "\n",
      "Qual opção você deseja? \n",
      "30\n",
      "Primeiro número: \n",
      "20\n",
      "Segundo número: \n",
      "20\n",
      "Operação inválida. Tente novamente.\n",
      "\n",
      "Calculadora Simples. Digite o cálculo a ser realizado e depois os números.\n",
      "\n",
      "1 - Soma\n",
      "2 - Subtração\n",
      "3 - Multiplicação\n",
      "4 - Divisão\n",
      "5 - Sair\n",
      "\n",
      "Qual opção você deseja? \n",
      "5\n",
      "Obrigado por usar a calculadora.\n"
     ]
    }
   ],
   "source": [
    "#CALCULADORA SIMPLES\n",
    "\n",
    "while True:\n",
    "        print(\"\"\"\n",
    "Calculadora Simples. Digite o cálculo a ser realizado e depois os números.\n",
    "\n",
    "1 - Soma\n",
    "2 - Subtração\n",
    "3 - Multiplicação\n",
    "4 - Divisão\n",
    "5 - Sair\n",
    "\"\"\")\n",
    "        opcao = int(input(\"Qual opção você deseja? \\n\"))\n",
    "        \n",
    "        if opcao == 5:\n",
    "            print('Obrigado por usar a calculadora.')\n",
    "            break\n",
    "        \n",
    "        num1 = float(input('Primeiro número: \\n'))\n",
    "        num2 = float(input('Segundo número: \\n'))\n",
    "        \n",
    "        if opcao == 1:\n",
    "            print(f'{num1} + {num2} = {num1+num2}')\n",
    "        elif opcao == 2:\n",
    "            print(f'{num1} - {num2} = {num1-num2}')\n",
    "        elif opcao == 3:\n",
    "            print(f'{num1} * {num2} = {num1*num2}')\n",
    "        elif opcao == 4 and num2 != 0:\n",
    "            print(f'{num1} / {num2} = {num1/num2}')\n",
    "        else:\n",
    "            print(f'Operação inválida. Tente novamente.')"
   ]
  },
  {
   "cell_type": "code",
   "execution_count": 36,
   "id": "f837fbe5",
   "metadata": {
    "scrolled": true
   },
   "outputs": [
    {
     "name": "stdout",
     "output_type": "stream",
     "text": [
      "Numero ímpar atual: 1\n",
      "Valor de SOMA atual: 1\n",
      "Numero ímpar atual: 3\n",
      "Valor de SOMA atual: 4\n",
      "Numero ímpar atual: 5\n",
      "Valor de SOMA atual: 9\n",
      "Numero ímpar atual: 7\n",
      "Valor de SOMA atual: 16\n",
      "Numero ímpar atual: 9\n",
      "Valor de SOMA atual: 25\n",
      "Numero ímpar atual: 11\n",
      "Valor de SOMA atual: 36\n"
     ]
    }
   ],
   "source": [
    "#SOMA DE NUMEROS IMPARES\n",
    "\n",
    "n = 5\n",
    "contador = 0\n",
    "soma = 0\n",
    "numero_impar_atual = 1\n",
    "\n",
    "while contador <= n:\n",
    "    print(f'Numero ímpar atual: {numero_impar_atual}')\n",
    "    soma += numero_impar_atual\n",
    "    print(f'Valor de SOMA atual: {soma}')\n",
    "    numero_impar_atual += 2\n",
    "    contador += 1\n",
    "    "
   ]
  },
  {
   "cell_type": "code",
   "execution_count": 39,
   "id": "352a29e4",
   "metadata": {},
   "outputs": [
    {
     "name": "stdout",
     "output_type": "stream",
     "text": [
      "1 2 3 4 5 6 7 8 9 "
     ]
    }
   ],
   "source": [
    "for i in range(1,10):\n",
    "    print(i, end=\" \")"
   ]
  },
  {
   "cell_type": "code",
   "execution_count": 45,
   "id": "2d9c5805",
   "metadata": {},
   "outputs": [
    {
     "name": "stdout",
     "output_type": "stream",
     "text": [
      "****\n",
      "***\n",
      "**\n",
      "*\n"
     ]
    }
   ],
   "source": [
    "def estrelas(numero: int):\n",
    "    for i in range(numero, 0, -1):\n",
    "        print('*'*i)\n",
    "        \n",
    "estrelas(4)        "
   ]
  },
  {
   "cell_type": "code",
   "execution_count": 47,
   "id": "712180cf",
   "metadata": {},
   "outputs": [
    {
     "name": "stdout",
     "output_type": "stream",
     "text": [
      "< 4\n",
      "carro\n",
      "< 4\n",
      "árvore\n"
     ]
    }
   ],
   "source": [
    "lista = ['casa', 'carro', 'sol', 'árvore']\n",
    "\n",
    "for letter in lista:\n",
    "    if len(letter) > 4:\n",
    "        print(letter)\n",
    "    else:\n",
    "        print('< 4')"
   ]
  },
  {
   "cell_type": "code",
   "execution_count": 68,
   "id": "487b0f53",
   "metadata": {},
   "outputs": [
    {
     "name": "stdout",
     "output_type": "stream",
     "text": [
      "5! = 120\n",
      "0! = 0\n"
     ]
    }
   ],
   "source": [
    "# FATORIAL\n",
    "\n",
    "def fatorial(numero):\n",
    "    fatorial = 1\n",
    "    if numero <= 0:\n",
    "        print(f'{numero}! = 0')\n",
    "    else:\n",
    "        for i in range(1, numero + 1):\n",
    "            fatorial *= i\n",
    "        return (f'{numero}! = {fatorial}')\n",
    "\n",
    "print(fatorial(5))\n",
    "fatorial(1)\n",
    "fatorial(0)"
   ]
  },
  {
   "cell_type": "code",
   "execution_count": 69,
   "id": "d6722727",
   "metadata": {},
   "outputs": [
    {
     "name": "stdout",
     "output_type": "stream",
     "text": [
      "1019\n"
     ]
    }
   ],
   "source": [
    "def soma(*args):\n",
    "    return sum(args)\n",
    "\n",
    "print(soma(1, 2, 3, 4, 9, 1000))"
   ]
  },
  {
   "cell_type": "code",
   "execution_count": 73,
   "id": "a5c2cf0e",
   "metadata": {},
   "outputs": [
    {
     "name": "stdout",
     "output_type": "stream",
     "text": [
      "\n",
      "    A lista: [2, 3, 10, 123, 22]\n",
      "    Tem média de : 32.0\n",
      "    Maior número: 123\n",
      "    Menor número: 2\n",
      "    \n"
     ]
    }
   ],
   "source": [
    "def estatisticas(*args):\n",
    "    lista = list(args)\n",
    "    media = sum(lista) / len(lista)\n",
    "    maior = max(lista)\n",
    "    menor = min(lista)\n",
    "    resultado = f\"\"\"\n",
    "    A lista: {lista}\n",
    "    Tem média de : {media}\n",
    "    Maior número: {maior}\n",
    "    Menor número: {menor}\n",
    "    \"\"\"\n",
    "    return resultado\n",
    "\n",
    "print(estatisticas(2, 3, 10, 123, 22))"
   ]
  }
 ],
 "metadata": {
  "kernelspec": {
   "display_name": "Python 3 (ipykernel)",
   "language": "python",
   "name": "python3"
  },
  "language_info": {
   "codemirror_mode": {
    "name": "ipython",
    "version": 3
   },
   "file_extension": ".py",
   "mimetype": "text/x-python",
   "name": "python",
   "nbconvert_exporter": "python",
   "pygments_lexer": "ipython3",
   "version": "3.9.13"
  }
 },
 "nbformat": 4,
 "nbformat_minor": 5
}
