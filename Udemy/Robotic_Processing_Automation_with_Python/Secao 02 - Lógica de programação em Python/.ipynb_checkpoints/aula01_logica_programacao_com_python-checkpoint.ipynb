{
 "cells": [
  {
   "cell_type": "code",
   "execution_count": 74,
   "id": "356f82a3",
   "metadata": {},
   "outputs": [
    {
     "name": "stdout",
     "output_type": "stream",
     "text": [
      "6j\n"
     ]
    },
    {
     "data": {
      "text/plain": [
       "complex"
      ]
     },
     "execution_count": 74,
     "metadata": {},
     "output_type": "execute_result"
    }
   ],
   "source": [
    "# numero complexo é terminado em j\n",
    "\n",
    "\n",
    "complexo = 3j + 3j\n",
    "\n",
    "print(complexo)\n",
    "type(complexo)"
   ]
  },
  {
   "cell_type": "code",
   "execution_count": 11,
   "id": "b1e1ab99",
   "metadata": {},
   "outputs": [
    {
     "name": "stdout",
     "output_type": "stream",
     "text": [
      "6.83\n"
     ]
    }
   ],
   "source": [
    "nota1 = 7.6\n",
    "nota2 = 8.2\n",
    "nota3 = 4.7\n",
    "\n",
    "media = (nota1 + nota2 + nota3) / 3\n",
    "\n",
    "print(round(media, 2))"
   ]
  },
  {
   "cell_type": "code",
   "execution_count": 14,
   "id": "cecf10c1",
   "metadata": {},
   "outputs": [
    {
     "name": "stdout",
     "output_type": "stream",
     "text": [
      "\n",
      "        0 * 23 = 0\n",
      "        \n",
      "\n",
      "        1 * 23 = 23\n",
      "        \n",
      "\n",
      "        2 * 23 = 46\n",
      "        \n",
      "\n",
      "        3 * 23 = 69\n",
      "        \n",
      "\n",
      "        4 * 23 = 92\n",
      "        \n",
      "\n",
      "        5 * 23 = 115\n",
      "        \n",
      "\n",
      "        6 * 23 = 138\n",
      "        \n",
      "\n",
      "        7 * 23 = 161\n",
      "        \n",
      "\n",
      "        8 * 23 = 184\n",
      "        \n",
      "\n",
      "        9 * 23 = 207\n",
      "        \n",
      "\n",
      "        10 * 23 = 230\n",
      "        \n"
     ]
    }
   ],
   "source": [
    "#fazer uma tabuada do 0 ao 10. v1\n",
    "def tabuada(numero: int):\n",
    "    for num in range(0,11):\n",
    "        print(f\"\"\"\n",
    "        {num} * {numero} = {num*numero}\n",
    "        \"\"\")\n",
    "tabuada(23)"
   ]
  },
  {
   "cell_type": "code",
   "execution_count": 18,
   "id": "cca4f5e2",
   "metadata": {},
   "outputs": [
    {
     "name": "stdout",
     "output_type": "stream",
     "text": [
      "Digite um número inteiro:\n",
      "224\n",
      "\n",
      "        0 * 224 = 0\n",
      "        \n",
      "\n",
      "        1 * 224 = 224\n",
      "        \n",
      "\n",
      "        2 * 224 = 448\n",
      "        \n",
      "\n",
      "        3 * 224 = 672\n",
      "        \n",
      "\n",
      "        4 * 224 = 896\n",
      "        \n",
      "\n",
      "        5 * 224 = 1120\n",
      "        \n",
      "\n",
      "        6 * 224 = 1344\n",
      "        \n",
      "\n",
      "        7 * 224 = 1568\n",
      "        \n",
      "\n",
      "        8 * 224 = 1792\n",
      "        \n",
      "\n",
      "        9 * 224 = 2016\n",
      "        \n",
      "\n",
      "        10 * 224 = 2240\n",
      "        \n"
     ]
    }
   ],
   "source": [
    "#V2 COM INPUT\n",
    "\n",
    "#fazer uma tabuada do 0 ao 10.\n",
    "def tabuada():\n",
    "    numero = int(input(\"Digite um número inteiro:\\n\"))\n",
    "    for num in range(0,11):\n",
    "        print(f\"\"\"\n",
    "        {num} * {numero} = {num*numero}\n",
    "        \"\"\")\n",
    "tabuada()"
   ]
  },
  {
   "cell_type": "code",
   "execution_count": 20,
   "id": "6133f4bf",
   "metadata": {},
   "outputs": [
    {
     "name": "stdout",
     "output_type": "stream",
     "text": [
      "Quantos anos você tem? \n",
      "32\n"
     ]
    },
    {
     "data": {
      "text/plain": [
       "1991"
      ]
     },
     "execution_count": 20,
     "metadata": {},
     "output_type": "execute_result"
    }
   ],
   "source": [
    "def funcao_ano_nascimento():\n",
    "    ano = 2023\n",
    "    idade = int(input('Quantos anos você tem? \\n'))\n",
    "    \n",
    "    return 2023 - idade\n",
    "\n",
    "funcao_ano_nascimento()"
   ]
  },
  {
   "cell_type": "code",
   "execution_count": 57,
   "id": "fba83058",
   "metadata": {},
   "outputs": [
    {
     "name": "stdout",
     "output_type": "stream",
     "text": [
      "2\n",
      "2\n",
      "[3, 4]\n",
      "[5, 3, 1, 4, 2, 6]\n"
     ]
    }
   ],
   "source": [
    "import random\n",
    "\n",
    "print(random.randrange(1, 3))\n",
    "print(random.randint(1,20))\n",
    "\n",
    "numeros = [1, 2, 3, 4, 5, 6]\n",
    "\n",
    "print(random.choices(numeros, k=2))\n",
    "random.shuffle(numeros)\n",
    "print(numeros)"
   ]
  },
  {
   "cell_type": "code",
   "execution_count": 63,
   "id": "c32ada73",
   "metadata": {},
   "outputs": [
    {
     "name": "stdout",
     "output_type": "stream",
     "text": [
      "58\n",
      "Python \n",
      "PYTHON É UMA LINGUAGEM DE PROGRAMAÇÃO PODEROSA E VERSÁTIL.\n",
      "Python é uma linguagem de programação incrível e versátil.\n"
     ]
    }
   ],
   "source": [
    "frase = 'Python é uma linguagem de programação poderosa e versátil.'\n",
    "\n",
    "print(len(frase))\n",
    "\n",
    "palavra = frase[:7]\n",
    "print(palavra)\n",
    "\n",
    "frase_upper = frase.upper()\n",
    "\n",
    "print(frase_upper)\n",
    "\n",
    "frase_substituida = frase.replace('poderosa', 'incrível')\n",
    "\n",
    "print(frase_substituida)"
   ]
  },
  {
   "cell_type": "code",
   "execution_count": 73,
   "id": "86990f0f",
   "metadata": {},
   "outputs": [
    {
     "name": "stdout",
     "output_type": "stream",
     "text": [
      "Elefante Josias\n",
      "['Elefante', 'Josias']\n"
     ]
    },
    {
     "data": {
      "text/plain": [
       "'ElefanteJosias'"
      ]
     },
     "execution_count": 73,
     "metadata": {},
     "output_type": "execute_result"
    }
   ],
   "source": [
    "nome_elefante = \"Elefante Josias\"\n",
    "print(nome_elefante)\n",
    "nome_corrigido = nome_elefante.split()\n",
    "\n",
    "print(nome_corrigido)\n",
    "\n",
    "\"\".join(nome_corrigido)"
   ]
  }
 ],
 "metadata": {
  "kernelspec": {
   "display_name": "Python 3 (ipykernel)",
   "language": "python",
   "name": "python3"
  },
  "language_info": {
   "codemirror_mode": {
    "name": "ipython",
    "version": 3
   },
   "file_extension": ".py",
   "mimetype": "text/x-python",
   "name": "python",
   "nbconvert_exporter": "python",
   "pygments_lexer": "ipython3",
   "version": "3.9.13"
  }
 },
 "nbformat": 4,
 "nbformat_minor": 5
}
