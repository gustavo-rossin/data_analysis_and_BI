{
 "cells": [
  {
   "cell_type": "code",
   "execution_count": 6,
   "id": "5b826b8d",
   "metadata": {},
   "outputs": [
    {
     "name": "stdout",
     "output_type": "stream",
     "text": [
      "[2, 4, 6, 8, 10, 12]\n"
     ]
    }
   ],
   "source": [
    "numeros = [1, 2, 3, 4, 5, 6, 7, 8, 9, 10, 11, 12]\n",
    "\n",
    "numeros_pares = list(filter(lambda x: x % 2 ==0, numeros))\n",
    "\n",
    "print(numeros_pares)"
   ]
  },
  {
   "cell_type": "code",
   "execution_count": 7,
   "id": "9e24a39d",
   "metadata": {},
   "outputs": [],
   "source": [
    "nomes = ['Gustavo', 'Ana', 'Arnaldo', 'Antonio', 'Sergio', 'Regis', 'Reginaldo', 'Antonella']"
   ]
  }
 ],
 "metadata": {
  "kernelspec": {
   "display_name": "Python 3 (ipykernel)",
   "language": "python",
   "name": "python3"
  },
  "language_info": {
   "codemirror_mode": {
    "name": "ipython",
    "version": 3
   },
   "file_extension": ".py",
   "mimetype": "text/x-python",
   "name": "python",
   "nbconvert_exporter": "python",
   "pygments_lexer": "ipython3",
   "version": "3.9.13"
  }
 },
 "nbformat": 4,
 "nbformat_minor": 5
}
