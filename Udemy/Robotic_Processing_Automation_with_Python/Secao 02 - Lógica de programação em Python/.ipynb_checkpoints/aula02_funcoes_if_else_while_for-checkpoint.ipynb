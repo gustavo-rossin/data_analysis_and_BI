{
 "cells": [
  {
   "cell_type": "code",
   "execution_count": 2,
   "id": "b7971ed4",
   "metadata": {},
   "outputs": [],
   "source": [
    "import random"
   ]
  },
  {
   "cell_type": "code",
   "execution_count": 85,
   "id": "992b6583",
   "metadata": {},
   "outputs": [
    {
     "name": "stdout",
     "output_type": "stream",
     "text": [
      "EITA! SAO OS MESMOS VALORES! num_aleatorio1 == num_aleatorio2 ----> [7] == [7]\n"
     ]
    }
   ],
   "source": [
    "num_aleatorio1 = random.randint(1, 30)\n",
    "num_aleatorio2 = random.randint(5, 15)\n",
    "\n",
    "if num_aleatorio1 > num_aleatorio2:\n",
    "    print(f\"o número aleatório 1 [{num_aleatorio1}] é maior do que o número aleatório 2 [{num_aleatorio2}]\")\n",
    "    \n",
    "elif num_aleatorio1 == num_aleatorio2:\n",
    "    print(f'EITA! SAO OS MESMOS VALORES! num_aleatorio1 == num_aleatorio2 ----> [{num_aleatorio1}] == [{num_aleatorio2}]')\n",
    "else:\n",
    "    print(f\"o número aleatório 2 [{num_aleatorio2}] é maior do que o número aleatório 1 [{num_aleatorio1}]\")"
   ]
  },
  {
   "cell_type": "code",
   "execution_count": 86,
   "id": "5ff9b3f8",
   "metadata": {},
   "outputs": [
    {
     "name": "stdout",
     "output_type": "stream",
     "text": [
      "Infantil\n",
      "Infantil\n",
      "Adolescente\n",
      "Adulto\n",
      "Véio\n",
      "Idade inválida\n"
     ]
    }
   ],
   "source": [
    "def faixa_etaria(idade: int):\n",
    "    if 0 <= idade <= 12:\n",
    "        print('Infantil')\n",
    "    elif 12 < idade <= 17:\n",
    "        print('Adolescente')\n",
    "    elif 17 < idade <= 59:\n",
    "        print('Adulto')\n",
    "    elif idade < 0:\n",
    "        print('Idade inválida')\n",
    "    else:\n",
    "        print('Véio')\n",
    "        \n",
    "faixa_etaria(0)\n",
    "faixa_etaria(12)\n",
    "faixa_etaria(15)\n",
    "faixa_etaria(54)\n",
    "faixa_etaria(66)\n",
    "faixa_etaria(-10)"
   ]
  },
  {
   "cell_type": "code",
   "execution_count": 88,
   "id": "a04cd895",
   "metadata": {},
   "outputs": [
    {
     "name": "stdout",
     "output_type": "stream",
     "text": [
      "O numero impresso é 1\n",
      "O numero impresso é 5\n",
      "O numero impresso é 9\n",
      "O numero impresso é 13\n",
      "O numero impresso é 17\n",
      "O numero impresso é 21\n",
      "O numero impresso é 25\n",
      "O numero impresso é 29\n",
      "O numero impresso é 33\n",
      "O numero impresso é 37\n",
      "O numero impresso é 41\n",
      "O numero impresso é 45\n",
      "O numero impresso é 49\n",
      "O numero impresso é 53\n",
      "O numero impresso é 57\n",
      "O numero impresso é 61\n",
      "O numero impresso é 65\n",
      "O numero impresso é 69\n",
      "O numero impresso é 73\n",
      "O numero impresso é 77\n",
      "O numero impresso é 81\n",
      "O numero impresso é 85\n",
      "Término da contagem!\n"
     ]
    }
   ],
   "source": [
    "def contador(numero, limite, steps):\n",
    "    while numero < limite:\n",
    "        print(f'O numero impresso é {numero}')\n",
    "        numero += steps\n",
    "    else:\n",
    "        print('Término da contagem!')\n",
    "        \n",
    "        \n",
    "contador(1, 87, 4)"
   ]
  },
  {
   "cell_type": "code",
   "execution_count": 97,
   "id": "ee0a9de1",
   "metadata": {},
   "outputs": [
    {
     "name": "stdout",
     "output_type": "stream",
     "text": [
      "0 2 4 6 8 10 12 14 16 18 20 22 24 26 28 30 32 34 36 38 "
     ]
    }
   ],
   "source": [
    "def numeros_pares(numero_inputado, steps):\n",
    "    numero_iteravel = 0\n",
    "    while numero_iteravel < numero_inputado:\n",
    "        if numero_iteravel % 2 == 0:\n",
    "            print(numero_iteravel, end = \" \")\n",
    "        numero_iteravel += steps\n",
    "\n",
    "numeros_pares(40, 1)"
   ]
  },
  {
   "cell_type": "code",
   "execution_count": 96,
   "id": "fd0d7e0c",
   "metadata": {},
   "outputs": [
    {
     "data": {
      "text/plain": [
       "[0, 2, 4, 6, 8, 10, 12, 14, 16, 18, 20, 22, 24, 26, 28, 30, 32, 34, 36, 38]"
      ]
     },
     "execution_count": 96,
     "metadata": {},
     "output_type": "execute_result"
    }
   ],
   "source": [
    "def numeros_pares_lista(numero_inputado, steps):\n",
    "    numero_iteravel = 0\n",
    "    new_list = []\n",
    "    while numero_iteravel < numero_inputado:\n",
    "        if numero_iteravel % 2 == 0:\n",
    "            new_list.append(numero_iteravel)\n",
    "        numero_iteravel += steps\n",
    "    \n",
    "    return new_list\n",
    "\n",
    "numeros_pares_lista(40, 1)"
   ]
  },
  {
   "cell_type": "code",
   "execution_count": 105,
   "id": "4989b6bf",
   "metadata": {},
   "outputs": [
    {
     "name": "stdout",
     "output_type": "stream",
     "text": [
      "10\n",
      "23\n",
      "18\n",
      "A SENHA 13 ESTÁ SENDO CHAMADA\n"
     ]
    }
   ],
   "source": [
    "def comanda_restaurante(senha_comanda):\n",
    "    senha_chamada = random.randint(10, 30)\n",
    "    while senha_chamada != senha_comanda:\n",
    "        print(senha_chamada)\n",
    "        senha_chamada = random.randint(10, 30)\n",
    "        if senha_chamada == senha_comanda:\n",
    "            print(f'A SENHA {senha_comanda} ESTÁ SENDO CHAMADA')\n",
    "            break\n",
    "\n",
    "comanda_restaurante(13)\n",
    "    "
   ]
  },
  {
   "cell_type": "code",
   "execution_count": 107,
   "id": "ebc8b091",
   "metadata": {},
   "outputs": [
    {
     "name": "stdout",
     "output_type": "stream",
     "text": [
      "Digite sua senha: \n",
      "Maikel\n",
      "SENHA INCORRETA, TENTE NOVAMENTE\n",
      "Digite sua senha: \n",
      "Maikelele\n",
      "Senha correta. Acesso liberado.\n"
     ]
    }
   ],
   "source": [
    "def senha_login():\n",
    "    senha = input('Digite sua senha: \\n')\n",
    "    senha_sistema = 'Maikelele'\n",
    "    \n",
    "    while senha != senha_sistema:\n",
    "        print('SENHA INCORRETA, TENTE NOVAMENTE')\n",
    "        \n",
    "        senha = input('Digite sua senha: \\n')\n",
    "    \n",
    "    print('Senha correta. Acesso liberado.')\n",
    "    \n",
    "senha_login()"
   ]
  },
  {
   "cell_type": "code",
   "execution_count": 113,
   "id": "c67974e6",
   "metadata": {
    "scrolled": true
   },
   "outputs": [
    {
     "name": "stdout",
     "output_type": "stream",
     "text": [
      "Digite um número: 22\n",
      "DICAAAA: O número secreto é MENOR.\n",
      "Digite um número: 2\n",
      "DICAAAA: O número secreto é MAIOR.\n",
      "Digite um número: 12\n",
      "DICAAAA: O número secreto é MENOR.\n",
      "Digite um número: 9\n",
      "DICAAAA: O número secreto é MAIOR.\n",
      "Digite um número: 10\n",
      "VOCÊ ACERTOU!!!! Você precisou de 5 tentativas!\n"
     ]
    }
   ],
   "source": [
    "# ACERTE O NUMERO!\n",
    "\n",
    "def acerte_o_numero(maximo_numero_secreto: int):\n",
    "\n",
    "    numero_secreto = random.randint(1, maximo_numero_secreto)\n",
    "\n",
    "    tentativas = 0\n",
    "\n",
    "    while True:\n",
    "        palpite = int(input('Digite um número: '))\n",
    "        tentativas += 1\n",
    "\n",
    "        if palpite < numero_secreto:\n",
    "            print('DICAAAA: O número secreto é MAIOR.')\n",
    "\n",
    "        elif palpite > numero_secreto:\n",
    "            print('DICAAAA: O número secreto é MENOR.')\n",
    "\n",
    "        else:\n",
    "            print(f'VOCÊ ACERTOU!!!! Você precisou de {tentativas} tentativas!')\n",
    "            break\n",
    "            \n",
    "acerte_o_numero(40)"
   ]
  },
  {
   "cell_type": "code",
   "execution_count": 115,
   "id": "58e3f470",
   "metadata": {},
   "outputs": [
    {
     "name": "stdout",
     "output_type": "stream",
     "text": [
      "Digite um número: \n",
      "2\n",
      "Digite um número: \n",
      "3\n",
      "Digite um número: \n",
      "0\n",
      "A soma total deu: 5\n"
     ]
    }
   ],
   "source": [
    "soma = 0\n",
    "\n",
    "while True:\n",
    "    valor_inputado = int(input('Digite um número: \\n'))\n",
    "    if valor_inputado != 0:\n",
    "        soma += valor_inputado\n",
    "    else:\n",
    "        print(f'A soma total deu: {soma}')\n",
    "        break"
   ]
  },
  {
   "cell_type": "code",
   "execution_count": 118,
   "id": "4d2bc4f6",
   "metadata": {},
   "outputs": [
    {
     "name": "stdout",
     "output_type": "stream",
     "text": [
      "Digite um número: \n",
      "201931\n",
      "Digite um número: \n",
      "123123\n",
      "Digite um número: \n",
      "333\n",
      "Digite um número: \n",
      "222222\n",
      "Digite um número: \n",
      "1113\n",
      "Digite um número: \n",
      "0\n",
      "A lista [201931, 123123, 333, 222222, 1113] está com o maior numero = 222222 e MENOR numero 333\n"
     ]
    }
   ],
   "source": [
    "#maior e menor numero da lista\n",
    "new_list = []\n",
    "while True:\n",
    "    valor_inputado = int(input('Digite um número: \\n'))\n",
    "    \n",
    "    if valor_inputado != 0:\n",
    "        new_list.append(valor_inputado)\n",
    "        \n",
    "    else:\n",
    "        print(f'A lista {new_list} está com o maior numero = {max(new_list)} e MENOR numero {min(new_list)}')\n",
    "        break\n",
    "    "
   ]
  }
 ],
 "metadata": {
  "kernelspec": {
   "display_name": "Python 3 (ipykernel)",
   "language": "python",
   "name": "python3"
  },
  "language_info": {
   "codemirror_mode": {
    "name": "ipython",
    "version": 3
   },
   "file_extension": ".py",
   "mimetype": "text/x-python",
   "name": "python",
   "nbconvert_exporter": "python",
   "pygments_lexer": "ipython3",
   "version": "3.9.13"
  }
 },
 "nbformat": 4,
 "nbformat_minor": 5
}
