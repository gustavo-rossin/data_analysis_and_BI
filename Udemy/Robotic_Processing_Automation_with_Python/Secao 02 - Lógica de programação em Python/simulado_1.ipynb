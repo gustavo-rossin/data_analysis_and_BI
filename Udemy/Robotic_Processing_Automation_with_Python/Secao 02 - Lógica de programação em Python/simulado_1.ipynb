{
 "cells": [
  {
   "cell_type": "code",
   "execution_count": 2,
   "id": "574fc609",
   "metadata": {},
   "outputs": [
    {
     "data": {
      "text/plain": [
       "11"
      ]
     },
     "execution_count": 2,
     "metadata": {},
     "output_type": "execute_result"
    }
   ],
   "source": [
    "numeros = [5, 7, 2, 4, 9, 1]\n",
    "\n",
    "numeros.sort()\n",
    "\n",
    "numeros[2] + numeros[-2]"
   ]
  },
  {
   "cell_type": "code",
   "execution_count": 4,
   "id": "f778f033",
   "metadata": {},
   "outputs": [
    {
     "name": "stdout",
     "output_type": "stream",
     "text": [
      "60\n"
     ]
    }
   ],
   "source": [
    "\n",
    "lista_numeros = [5, 10, 15, 20, 25]\n",
    "soma = 0\n",
    "indice = 0\n",
    " \n",
    "while indice < len(lista_numeros):\n",
    "    if lista_numeros[indice] > 12:\n",
    "        soma += lista_numeros[indice]\n",
    "    indice += 1\n",
    "    \n",
    "resultado = soma\n",
    " \n",
    "print(resultado)"
   ]
  },
  {
   "cell_type": "code",
   "execution_count": 5,
   "id": "0ced8718",
   "metadata": {},
   "outputs": [
    {
     "name": "stdout",
     "output_type": "stream",
     "text": [
      "22\n"
     ]
    }
   ],
   "source": [
    "palavras = ['gato', 'cao', 'passaro', 'peixe', 'camaleao']\n",
    "contagem = 0\n",
    " \n",
    "for palavra in palavras:\n",
    "    if 'a' in palavra:\n",
    "        contagem += len(palavra)\n",
    " \n",
    "\n",
    "print(contagem)"
   ]
  },
  {
   "cell_type": "code",
   "execution_count": 6,
   "id": "1b2e939c",
   "metadata": {},
   "outputs": [
    {
     "name": "stdout",
     "output_type": "stream",
     "text": [
      "18\n"
     ]
    }
   ],
   "source": [
    "numero = 1\n",
    "soma = 0\n",
    " \n",
    "while numero <= 10:\n",
    "    if numero % 3 == 0:\n",
    "        soma += numero\n",
    "    numero += 1\n",
    " \n",
    "print(soma)"
   ]
  },
  {
   "cell_type": "code",
   "execution_count": 7,
   "id": "37f6ea70",
   "metadata": {},
   "outputs": [
    {
     "name": "stdout",
     "output_type": "stream",
     "text": [
      "[]\n"
     ]
    }
   ],
   "source": [
    "valores = [2, 4, 6, 8, 10]\n",
    "resultados = []\n",
    "i = 0\n",
    " \n",
    "while i < len(valores):\n",
    "    if valores[i] % 4 == 0:\n",
    "        resultados.append(valores[i])\n",
    "    i += 2\n",
    " \n",
    " \n",
    "print(resultados)"
   ]
  },
  {
   "cell_type": "code",
   "execution_count": 8,
   "id": "bb32a37f",
   "metadata": {},
   "outputs": [
    {
     "name": "stdout",
     "output_type": "stream",
     "text": [
      "França\n"
     ]
    }
   ],
   "source": [
    "dicionario_paises = {\n",
    "\n",
    "    \"BR\": \"Brasil\",\n",
    "\n",
    "    \"US\": \"Estados Unidos\",\n",
    "\n",
    "    \"FR\": \"França\",\n",
    "\n",
    "    \"DE\": \"Alemanha\",\n",
    "\n",
    "    \"JP\": \"Japão\"\n",
    "\n",
    "}\n",
    "\n",
    "resultado = dicionario_paises.get(\"FR\", \"Não encontrado\")\n",
    "\n",
    "print(resultado)"
   ]
  },
  {
   "cell_type": "code",
   "execution_count": 10,
   "id": "31d8a404",
   "metadata": {},
   "outputs": [
    {
     "data": {
      "text/plain": [
       "'D'"
      ]
     },
     "execution_count": 10,
     "metadata": {},
     "output_type": "execute_result"
    }
   ],
   "source": [
    "y = 8\n",
    " \n",
    "if y < 10 and y > 5:\n",
    "    resultado = \"D\"\n",
    "elif y == 8:\n",
    "    resultado = \"E\"\n",
    "elif y > 10:\n",
    "    resultado = \"F\"\n",
    "else:\n",
    "    resultado = \"G\"\n",
    "\n",
    "resultado"
   ]
  },
  {
   "cell_type": "code",
   "execution_count": 12,
   "id": "13e73119",
   "metadata": {},
   "outputs": [
    {
     "name": "stdout",
     "output_type": "stream",
     "text": [
      "42\n"
     ]
    }
   ],
   "source": [
    "contador = 0\n",
    "multiplicador = 1\n",
    " \n",
    "while contador < 4:\n",
    "    multiplicador *= 2\n",
    "    contador += 1\n",
    "    multiplicador += contador\n",
    "    \n",
    "    \n",
    "print(multiplicador)"
   ]
  },
  {
   "cell_type": "code",
   "execution_count": 13,
   "id": "fd225664",
   "metadata": {},
   "outputs": [
    {
     "name": "stdout",
     "output_type": "stream",
     "text": [
      "4\n"
     ]
    }
   ],
   "source": [
    "def verifica_elemento(lista, valor):\n",
    "    if valor in lista:\n",
    "        return lista.index(valor) * 2\n",
    "    else:\n",
    "        return len(lista)\n",
    " \n",
    "resultado = verifica_elemento([1, 3, 5, 7, 9], 5)\n",
    " \n",
    " \n",
    "print(resultado)"
   ]
  },
  {
   "cell_type": "code",
   "execution_count": 14,
   "id": "9fe341c9",
   "metadata": {},
   "outputs": [
    {
     "name": "stdout",
     "output_type": "stream",
     "text": [
      "5\n"
     ]
    }
   ],
   "source": [
    "estoque = {\n",
    "    \"camisas\": 20,\n",
    "    \"calças\": 15,\n",
    "    \"sapatos\": 10,\n",
    "    \"chapéus\": 5\n",
    "}\n",
    "\n",
    "estoque[\"sapatos\"] -= 5\n",
    "estoque[\"chapéus\"] += 3\n",
    "resultado = estoque[\"sapatos\"]\n",
    "print(resultado)"
   ]
  },
  {
   "cell_type": "code",
   "execution_count": 15,
   "id": "236b2ae2",
   "metadata": {},
   "outputs": [
    {
     "name": "stdout",
     "output_type": "stream",
     "text": [
      "D\n"
     ]
    }
   ],
   "source": [
    "list_1 = [2, 4, 6, 8, 10]\n",
    "list_2 = [1, 3, 5, 7, 9]\n",
    " \n",
    "sum_1 = sum(list_1)\n",
    "sum_2 = sum(list_2)\n",
    " \n",
    "mensagem = \"Inicial\"\n",
    " \n",
    "if sum_1 > 30:\n",
    "    mensagem = \"A\"\n",
    "if sum_2 < 30:\n",
    "    mensagem = \"B\"\n",
    "if sum_1 == 2 * sum_2:\n",
    "    mensagem = \"C\"\n",
    "if len(list_1) == len(list_2) and sum_1 > sum_2:\n",
    "    mensagem = \"D\"\n",
    "\n",
    "print(mensagem)"
   ]
  },
  {
   "cell_type": "code",
   "execution_count": 16,
   "id": "44866c5d",
   "metadata": {},
   "outputs": [
    {
     "name": "stdout",
     "output_type": "stream",
     "text": [
      "[10, 20, 30]\n"
     ]
    }
   ],
   "source": [
    "valores = [5, 10, 15, 20, 25, 30]\n",
    "filtrados = []\n",
    "i = 1\n",
    " \n",
    "while i < len(valores):\n",
    "    if valores[i] % 10 == 0:\n",
    "        filtrados.append(valores[i])\n",
    "    i += 2\n",
    " \n",
    " \n",
    "print(filtrados)"
   ]
  },
  {
   "cell_type": "code",
   "execution_count": 17,
   "id": "aa07e4d7",
   "metadata": {},
   "outputs": [
    {
     "name": "stdout",
     "output_type": "stream",
     "text": [
      "5.0\n"
     ]
    }
   ],
   "source": [
    "def processa_valores(a, b, c):\n",
    "    \n",
    "    result = a * b + c\n",
    "    \n",
    "    if result % 2 == 0:\n",
    "    \n",
    "        return result / 2\n",
    "    \n",
    "    else:\n",
    "    \n",
    "        return result - 1\n",
    " \n",
    "saida = processa_valores(2, 3, 4)\n",
    " \n",
    " \n",
    "print(saida)"
   ]
  },
  {
   "cell_type": "code",
   "execution_count": 19,
   "id": "13e13e48",
   "metadata": {},
   "outputs": [
    {
     "name": "stdout",
     "output_type": "stream",
     "text": [
      "(15, 5)\n"
     ]
    }
   ],
   "source": [
    "def soma_e_subtrai(x, y):\n",
    "    s = x + y\n",
    "    d = x - y\n",
    "    return s, d\n",
    "\n",
    "a, b = soma_e_subtrai(10, 5)\n",
    " \n",
    " \n",
    "print(a, b)\n"
   ]
  },
  {
   "cell_type": "code",
   "execution_count": 20,
   "id": "824db224",
   "metadata": {},
   "outputs": [
    {
     "name": "stdout",
     "output_type": "stream",
     "text": [
      "6\n",
      "630\n"
     ]
    }
   ],
   "source": [
    "economias = 10\n",
    "semana = 1\n",
    "total_economizado = economias\n",
    " \n",
    "while total_economizado < 320:\n",
    "    semana += 1\n",
    "    economias *= 2\n",
    "    total_economizado += economias\n",
    "    \n",
    "print(semana)\n",
    "print(total_economizado)"
   ]
  }
 ],
 "metadata": {
  "kernelspec": {
   "display_name": "Python 3 (ipykernel)",
   "language": "python",
   "name": "python3"
  },
  "language_info": {
   "codemirror_mode": {
    "name": "ipython",
    "version": 3
   },
   "file_extension": ".py",
   "mimetype": "text/x-python",
   "name": "python",
   "nbconvert_exporter": "python",
   "pygments_lexer": "ipython3",
   "version": "3.9.13"
  }
 },
 "nbformat": 4,
 "nbformat_minor": 5
}
