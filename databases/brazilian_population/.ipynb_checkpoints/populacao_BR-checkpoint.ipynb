{
 "cells": [
  {
   "cell_type": "code",
   "execution_count": 1,
   "id": "fe46120d",
   "metadata": {
    "scrolled": true
   },
   "outputs": [
    {
     "name": "stderr",
     "output_type": "stream",
     "text": [
      "Downloading: 100%|████████████████████████████████████████████████████████| 174388/174388 [00:08<00:00, 19949.37rows/s]\n"
     ]
    }
   ],
   "source": [
    "import basedosdados as bd\n",
    "import pandas as pd\n",
    "\n",
    "# Para carregar o dado direto no pandas\n",
    "df = bd.read_table(dataset_id='br_ibge_populacao',\n",
    "table_id='municipio',\n",
    "billing_project_id=\"projeto-buda\")"
   ]
  },
  {
   "cell_type": "code",
   "execution_count": 2,
   "id": "0e7bb53a",
   "metadata": {},
   "outputs": [],
   "source": [
    "import numpy as np\n",
    "import seaborn as sns\n",
    "import matplotlib.pyplot as plt"
   ]
  },
  {
   "cell_type": "code",
   "execution_count": 3,
   "id": "b2f65e51",
   "metadata": {
    "scrolled": true
   },
   "outputs": [
    {
     "data": {
      "text/html": [
       "<div>\n",
       "<style scoped>\n",
       "    .dataframe tbody tr th:only-of-type {\n",
       "        vertical-align: middle;\n",
       "    }\n",
       "\n",
       "    .dataframe tbody tr th {\n",
       "        vertical-align: top;\n",
       "    }\n",
       "\n",
       "    .dataframe thead th {\n",
       "        text-align: right;\n",
       "    }\n",
       "</style>\n",
       "<table border=\"1\" class=\"dataframe\">\n",
       "  <thead>\n",
       "    <tr style=\"text-align: right;\">\n",
       "      <th></th>\n",
       "      <th>ano</th>\n",
       "      <th>sigla_uf</th>\n",
       "      <th>id_municipio</th>\n",
       "      <th>populacao</th>\n",
       "    </tr>\n",
       "  </thead>\n",
       "  <tbody>\n",
       "    <tr>\n",
       "      <th>0</th>\n",
       "      <td>1991</td>\n",
       "      <td>RO</td>\n",
       "      <td>1100015</td>\n",
       "      <td>31981</td>\n",
       "    </tr>\n",
       "    <tr>\n",
       "      <th>1</th>\n",
       "      <td>1992</td>\n",
       "      <td>RO</td>\n",
       "      <td>1100015</td>\n",
       "      <td>34768</td>\n",
       "    </tr>\n",
       "    <tr>\n",
       "      <th>2</th>\n",
       "      <td>1993</td>\n",
       "      <td>RO</td>\n",
       "      <td>1100015</td>\n",
       "      <td>37036</td>\n",
       "    </tr>\n",
       "    <tr>\n",
       "      <th>3</th>\n",
       "      <td>1994</td>\n",
       "      <td>RO</td>\n",
       "      <td>1100015</td>\n",
       "      <td>39325</td>\n",
       "    </tr>\n",
       "    <tr>\n",
       "      <th>4</th>\n",
       "      <td>1995</td>\n",
       "      <td>RO</td>\n",
       "      <td>1100015</td>\n",
       "      <td>41574</td>\n",
       "    </tr>\n",
       "  </tbody>\n",
       "</table>\n",
       "</div>"
      ],
      "text/plain": [
       "    ano sigla_uf id_municipio  populacao\n",
       "0  1991       RO      1100015      31981\n",
       "1  1992       RO      1100015      34768\n",
       "2  1993       RO      1100015      37036\n",
       "3  1994       RO      1100015      39325\n",
       "4  1995       RO      1100015      41574"
      ]
     },
     "execution_count": 3,
     "metadata": {},
     "output_type": "execute_result"
    }
   ],
   "source": [
    "df.head()"
   ]
  },
  {
   "cell_type": "code",
   "execution_count": 7,
   "id": "b57b729d",
   "metadata": {},
   "outputs": [
    {
     "data": {
      "text/plain": [
       "ano               0\n",
       "sigla_uf          1\n",
       "id_municipio      1\n",
       "populacao       534\n",
       "dtype: int64"
      ]
     },
     "execution_count": 7,
     "metadata": {},
     "output_type": "execute_result"
    }
   ],
   "source": [
    "df.isnull().sum()"
   ]
  },
  {
   "cell_type": "code",
   "execution_count": 8,
   "id": "8f12b2c5",
   "metadata": {},
   "outputs": [],
   "source": [
    "df = df.dropna()"
   ]
  },
  {
   "cell_type": "code",
   "execution_count": 13,
   "id": "b3009f79",
   "metadata": {},
   "outputs": [
    {
     "name": "stdout",
     "output_type": "stream",
     "text": [
      "<class 'pandas.core.frame.DataFrame'>\n",
      "Int64Index: 173853 entries, 0 to 174386\n",
      "Data columns (total 4 columns):\n",
      " #   Column        Non-Null Count   Dtype \n",
      "---  ------        --------------   ----- \n",
      " 0   ano           173853 non-null  Int64 \n",
      " 1   sigla_uf      173853 non-null  object\n",
      " 2   id_municipio  173853 non-null  object\n",
      " 3   populacao     173853 non-null  Int64 \n",
      "dtypes: Int64(2), object(2)\n",
      "memory usage: 7.0+ MB\n"
     ]
    }
   ],
   "source": [
    "df.info()"
   ]
  },
  {
   "cell_type": "code",
   "execution_count": 33,
   "id": "ae37aa57",
   "metadata": {
    "scrolled": true
   },
   "outputs": [
    {
     "name": "stdout",
     "output_type": "stream",
     "text": [
      "<class 'pandas.core.frame.DataFrame'>\n",
      "RangeIndex: 32 entries, 0 to 31\n",
      "Data columns (total 2 columns):\n",
      " #   Column     Non-Null Count  Dtype  \n",
      "---  ------     --------------  -----  \n",
      " 0   ano        32 non-null     Int64  \n",
      " 1   populacao  32 non-null     float32\n",
      "dtypes: Int64(1), float32(1)\n",
      "memory usage: 544.0 bytes\n",
      "None\n"
     ]
    },
    {
     "data": {
      "text/html": [
       "<div>\n",
       "<style scoped>\n",
       "    .dataframe tbody tr th:only-of-type {\n",
       "        vertical-align: middle;\n",
       "    }\n",
       "\n",
       "    .dataframe tbody tr th {\n",
       "        vertical-align: top;\n",
       "    }\n",
       "\n",
       "    .dataframe thead th {\n",
       "        text-align: right;\n",
       "    }\n",
       "</style>\n",
       "<table border=\"1\" class=\"dataframe\">\n",
       "  <thead>\n",
       "    <tr style=\"text-align: right;\">\n",
       "      <th></th>\n",
       "      <th>ano</th>\n",
       "      <th>populacao</th>\n",
       "    </tr>\n",
       "  </thead>\n",
       "  <tbody>\n",
       "    <tr>\n",
       "      <th>0</th>\n",
       "      <td>1991</td>\n",
       "      <td>146.820007</td>\n",
       "    </tr>\n",
       "    <tr>\n",
       "      <th>1</th>\n",
       "      <td>1992</td>\n",
       "      <td>149.240005</td>\n",
       "    </tr>\n",
       "    <tr>\n",
       "      <th>2</th>\n",
       "      <td>1993</td>\n",
       "      <td>151.570007</td>\n",
       "    </tr>\n",
       "    <tr>\n",
       "      <th>3</th>\n",
       "      <td>1994</td>\n",
       "      <td>153.729996</td>\n",
       "    </tr>\n",
       "    <tr>\n",
       "      <th>4</th>\n",
       "      <td>1995</td>\n",
       "      <td>155.820007</td>\n",
       "    </tr>\n",
       "  </tbody>\n",
       "</table>\n",
       "</div>"
      ],
      "text/plain": [
       "    ano   populacao\n",
       "0  1991  146.820007\n",
       "1  1992  149.240005\n",
       "2  1993  151.570007\n",
       "3  1994  153.729996\n",
       "4  1995  155.820007"
      ]
     },
     "execution_count": 33,
     "metadata": {},
     "output_type": "execute_result"
    }
   ],
   "source": [
    "populacao_por_ano = df.groupby('ano')['populacao'].sum().reset_index()\n",
    "\n",
    "populacao_por_ano['populacao'] = round(populacao_por_ano['populacao'] / 1000000, 2)\n",
    "\n",
    "populacao_por_ano['populacao'] = populacao_por_ano['populacao'].astype('float32')\n",
    "\n",
    "print(populacao_por_ano.info())\n",
    "\n",
    "populacao_por_ano.head()"
   ]
  },
  {
   "cell_type": "code",
   "execution_count": 34,
   "id": "c31636cd",
   "metadata": {},
   "outputs": [
    {
     "data": {
      "text/plain": [
       "pandas.core.series.Series"
      ]
     },
     "execution_count": 34,
     "metadata": {},
     "output_type": "execute_result"
    }
   ],
   "source": [
    "type(populacao_por_ano.populacao)"
   ]
  },
  {
   "cell_type": "code",
   "execution_count": 43,
   "id": "419d4192",
   "metadata": {},
   "outputs": [],
   "source": [
    "#transoformando o dataframe em series e dps em ndArray do Numpy\n",
    "populacao_nd_array = np.array(populacao_por_ano.populacao)\n",
    "ano_nd_array = np.array(populacao_por_ano.ano)"
   ]
  },
  {
   "cell_type": "code",
   "execution_count": 49,
   "id": "7cf98c2d",
   "metadata": {
    "scrolled": true
   },
   "outputs": [
    {
     "data": {
      "image/png": "[encoded data removed]",
      "text/plain": [
       "<Figure size 640x480 with 1 Axes>"
      ]
     },
     "metadata": {},
     "output_type": "display_data"
    }
   ],
   "source": [
    "\n",
    "plt.plot(ano_nd_array, populacao_nd_array, '-.')\n",
    "plt.title('Evolução da população brasileira em anos')\n",
    "plt.ylabel('Populacao em milhões')\n",
    "plt.xlabel('Ano')\n",
    "plt.show()\n"
   ]
  }
 ],
 "metadata": {
  "kernelspec": {
   "display_name": "Python 3 (ipykernel)",
   "language": "python",
   "name": "python3"
  },
  "language_info": {
   "codemirror_mode": {
    "name": "ipython",
    "version": 3
   },
   "file_extension": ".py",
   "mimetype": "text/x-python",
   "name": "python",
   "nbconvert_exporter": "python",
   "pygments_lexer": "ipython3",
   "version": "3.9.13"
  }
 },
 "nbformat": 4,
 "nbformat_minor": 5
}
