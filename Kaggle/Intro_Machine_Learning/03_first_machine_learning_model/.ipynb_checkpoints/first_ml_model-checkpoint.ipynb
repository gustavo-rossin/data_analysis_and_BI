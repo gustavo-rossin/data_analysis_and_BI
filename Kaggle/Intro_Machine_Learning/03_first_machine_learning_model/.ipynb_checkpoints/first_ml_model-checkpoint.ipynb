{
 "cells": [
  {
   "cell_type": "markdown",
   "id": "6b73f14b",
   "metadata": {},
   "source": [
    "# Explicação"
   ]
  },
  {
   "cell_type": "code",
   "execution_count": 1,
   "id": "acfc2b72",
   "metadata": {},
   "outputs": [
    {
     "name": "stdout",
     "output_type": "stream",
     "text": [
      "       Suburb           Address  Rooms Type      Price Method SellerG  \\\n",
      "0  Abbotsford      85 Turner St      2    h  1480000.0      S  Biggin   \n",
      "1  Abbotsford   25 Bloomburg St      2    h  1035000.0      S  Biggin   \n",
      "2  Abbotsford      5 Charles St      3    h  1465000.0     SP  Biggin   \n",
      "3  Abbotsford  40 Federation La      3    h   850000.0     PI  Biggin   \n",
      "4  Abbotsford       55a Park St      4    h  1600000.0     VB  Nelson   \n",
      "\n",
      "        Date  Distance  Postcode  ...  Bathroom  Car  Landsize  BuildingArea  \\\n",
      "0  3/12/2016       2.5    3067.0  ...       1.0  1.0     202.0           NaN   \n",
      "1  4/02/2016       2.5    3067.0  ...       1.0  0.0     156.0          79.0   \n",
      "2  4/03/2017       2.5    3067.0  ...       2.0  0.0     134.0         150.0   \n",
      "3  4/03/2017       2.5    3067.0  ...       2.0  1.0      94.0           NaN   \n",
      "4  4/06/2016       2.5    3067.0  ...       1.0  2.0     120.0         142.0   \n",
      "\n",
      "   YearBuilt  CouncilArea Lattitude  Longtitude             Regionname  \\\n",
      "0        NaN        Yarra  -37.7996    144.9984  Northern Metropolitan   \n",
      "1     1900.0        Yarra  -37.8079    144.9934  Northern Metropolitan   \n",
      "2     1900.0        Yarra  -37.8093    144.9944  Northern Metropolitan   \n",
      "3        NaN        Yarra  -37.7969    144.9969  Northern Metropolitan   \n",
      "4     2014.0        Yarra  -37.8072    144.9941  Northern Metropolitan   \n",
      "\n",
      "  Propertycount  \n",
      "0        4019.0  \n",
      "1        4019.0  \n",
      "2        4019.0  \n",
      "3        4019.0  \n",
      "4        4019.0  \n",
      "\n",
      "[5 rows x 21 columns]\n"
     ]
    },
    {
     "data": {
      "text/plain": [
       "Index(['Suburb', 'Address', 'Rooms', 'Type', 'Price', 'Method', 'SellerG',\n",
       "       'Date', 'Distance', 'Postcode', 'Bedroom2', 'Bathroom', 'Car',\n",
       "       'Landsize', 'BuildingArea', 'YearBuilt', 'CouncilArea', 'Lattitude',\n",
       "       'Longtitude', 'Regionname', 'Propertycount'],\n",
       "      dtype='object')"
      ]
     },
     "execution_count": 1,
     "metadata": {},
     "output_type": "execute_result"
    }
   ],
   "source": [
    "import pandas as pd\n",
    "\n",
    "df_melb = pd.read_csv('../02_basic_data_exploration/melb_data.csv')\n",
    "\n",
    "print(df_melb.head())\n",
    "\n",
    "df_melb.columns"
   ]
  },
  {
   "cell_type": "code",
   "execution_count": 3,
   "id": "9c917336",
   "metadata": {
    "scrolled": false
   },
   "outputs": [
    {
     "name": "stdout",
     "output_type": "stream",
     "text": [
      "       Suburb          Address  Rooms Type      Price Method SellerG  \\\n",
      "1  Abbotsford  25 Bloomburg St      2    h  1035000.0      S  Biggin   \n",
      "2  Abbotsford     5 Charles St      3    h  1465000.0     SP  Biggin   \n",
      "4  Abbotsford      55a Park St      4    h  1600000.0     VB  Nelson   \n",
      "6  Abbotsford     124 Yarra St      3    h  1876000.0      S  Nelson   \n",
      "7  Abbotsford    98 Charles St      2    h  1636000.0      S  Nelson   \n",
      "\n",
      "        Date  Distance  Postcode  ...  Bathroom  Car  Landsize  BuildingArea  \\\n",
      "1  4/02/2016       2.5    3067.0  ...       1.0  0.0     156.0          79.0   \n",
      "2  4/03/2017       2.5    3067.0  ...       2.0  0.0     134.0         150.0   \n",
      "4  4/06/2016       2.5    3067.0  ...       1.0  2.0     120.0         142.0   \n",
      "6  7/05/2016       2.5    3067.0  ...       2.0  0.0     245.0         210.0   \n",
      "7  8/10/2016       2.5    3067.0  ...       1.0  2.0     256.0         107.0   \n",
      "\n",
      "   YearBuilt  CouncilArea Lattitude  Longtitude             Regionname  \\\n",
      "1     1900.0        Yarra  -37.8079    144.9934  Northern Metropolitan   \n",
      "2     1900.0        Yarra  -37.8093    144.9944  Northern Metropolitan   \n",
      "4     2014.0        Yarra  -37.8072    144.9941  Northern Metropolitan   \n",
      "6     1910.0        Yarra  -37.8024    144.9993  Northern Metropolitan   \n",
      "7     1890.0        Yarra  -37.8060    144.9954  Northern Metropolitan   \n",
      "\n",
      "  Propertycount  \n",
      "1        4019.0  \n",
      "2        4019.0  \n",
      "4        4019.0  \n",
      "6        4019.0  \n",
      "7        4019.0  \n",
      "\n",
      "[5 rows x 21 columns]\n"
     ]
    }
   ],
   "source": [
    "df_melb = df_melb.dropna(axis=0)\n",
    "\n",
    "print(df_melb.head())"
   ]
  },
  {
   "cell_type": "code",
   "execution_count": 6,
   "id": "7ff694b3",
   "metadata": {},
   "outputs": [
    {
     "name": "stdout",
     "output_type": "stream",
     "text": [
      "1        1035000.0\n",
      "2        1465000.0\n",
      "4        1600000.0\n",
      "6        1876000.0\n",
      "7        1636000.0\n",
      "           ...    \n",
      "12205     601000.0\n",
      "12206    1050000.0\n",
      "12207     385000.0\n",
      "12209     560000.0\n",
      "12212    2450000.0\n",
      "Name: Price, Length: 6196, dtype: float64\n",
      "       Rooms  Bathroom  Landsize  Lattitude  Longtitude\n",
      "1          2       1.0     156.0  -37.80790   144.99340\n",
      "2          3       2.0     134.0  -37.80930   144.99440\n",
      "4          4       1.0     120.0  -37.80720   144.99410\n",
      "6          3       2.0     245.0  -37.80240   144.99930\n",
      "7          2       1.0     256.0  -37.80600   144.99540\n",
      "...      ...       ...       ...        ...         ...\n",
      "12205      3       2.0     972.0  -37.51232   145.13282\n",
      "12206      3       1.0     179.0  -37.86558   144.90474\n",
      "12207      1       1.0       0.0  -37.85588   144.89936\n",
      "12209      2       1.0       0.0  -37.85581   144.99025\n",
      "12212      6       3.0    1087.0  -37.81038   144.89389\n",
      "\n",
      "[6196 rows x 5 columns]\n"
     ]
    }
   ],
   "source": [
    "# prediction target é chamado comumente de 'y'\n",
    "# features é chamado de 'X'\n",
    "\n",
    "y = df_melb.Price\n",
    "\n",
    "print(y)\n",
    "\n",
    "melbourne_features = ['Rooms', 'Bathroom', 'Landsize', 'Lattitude', 'Longtitude']\n",
    "\n",
    "X = df_melb[melbourne_features]\n",
    "\n",
    "print(X)"
   ]
  },
  {
   "cell_type": "code",
   "execution_count": 7,
   "id": "bb4e1c7a",
   "metadata": {},
   "outputs": [
    {
     "data": {
      "text/html": [
       "<div>\n",
       "<style scoped>\n",
       "    .dataframe tbody tr th:only-of-type {\n",
       "        vertical-align: middle;\n",
       "    }\n",
       "\n",
       "    .dataframe tbody tr th {\n",
       "        vertical-align: top;\n",
       "    }\n",
       "\n",
       "    .dataframe thead th {\n",
       "        text-align: right;\n",
       "    }\n",
       "</style>\n",
       "<table border=\"1\" class=\"dataframe\">\n",
       "  <thead>\n",
       "    <tr style=\"text-align: right;\">\n",
       "      <th></th>\n",
       "      <th>Rooms</th>\n",
       "      <th>Bathroom</th>\n",
       "      <th>Landsize</th>\n",
       "      <th>Lattitude</th>\n",
       "      <th>Longtitude</th>\n",
       "    </tr>\n",
       "  </thead>\n",
       "  <tbody>\n",
       "    <tr>\n",
       "      <th>count</th>\n",
       "      <td>6196.000000</td>\n",
       "      <td>6196.000000</td>\n",
       "      <td>6196.000000</td>\n",
       "      <td>6196.000000</td>\n",
       "      <td>6196.000000</td>\n",
       "    </tr>\n",
       "    <tr>\n",
       "      <th>mean</th>\n",
       "      <td>2.931407</td>\n",
       "      <td>1.576340</td>\n",
       "      <td>471.006940</td>\n",
       "      <td>-37.807904</td>\n",
       "      <td>144.990201</td>\n",
       "    </tr>\n",
       "    <tr>\n",
       "      <th>std</th>\n",
       "      <td>0.971079</td>\n",
       "      <td>0.711362</td>\n",
       "      <td>897.449881</td>\n",
       "      <td>0.075850</td>\n",
       "      <td>0.099165</td>\n",
       "    </tr>\n",
       "    <tr>\n",
       "      <th>min</th>\n",
       "      <td>1.000000</td>\n",
       "      <td>1.000000</td>\n",
       "      <td>0.000000</td>\n",
       "      <td>-38.164920</td>\n",
       "      <td>144.542370</td>\n",
       "    </tr>\n",
       "    <tr>\n",
       "      <th>25%</th>\n",
       "      <td>2.000000</td>\n",
       "      <td>1.000000</td>\n",
       "      <td>152.000000</td>\n",
       "      <td>-37.855438</td>\n",
       "      <td>144.926198</td>\n",
       "    </tr>\n",
       "    <tr>\n",
       "      <th>50%</th>\n",
       "      <td>3.000000</td>\n",
       "      <td>1.000000</td>\n",
       "      <td>373.000000</td>\n",
       "      <td>-37.802250</td>\n",
       "      <td>144.995800</td>\n",
       "    </tr>\n",
       "    <tr>\n",
       "      <th>75%</th>\n",
       "      <td>4.000000</td>\n",
       "      <td>2.000000</td>\n",
       "      <td>628.000000</td>\n",
       "      <td>-37.758200</td>\n",
       "      <td>145.052700</td>\n",
       "    </tr>\n",
       "    <tr>\n",
       "      <th>max</th>\n",
       "      <td>8.000000</td>\n",
       "      <td>8.000000</td>\n",
       "      <td>37000.000000</td>\n",
       "      <td>-37.457090</td>\n",
       "      <td>145.526350</td>\n",
       "    </tr>\n",
       "  </tbody>\n",
       "</table>\n",
       "</div>"
      ],
      "text/plain": [
       "             Rooms     Bathroom      Landsize    Lattitude   Longtitude\n",
       "count  6196.000000  6196.000000   6196.000000  6196.000000  6196.000000\n",
       "mean      2.931407     1.576340    471.006940   -37.807904   144.990201\n",
       "std       0.971079     0.711362    897.449881     0.075850     0.099165\n",
       "min       1.000000     1.000000      0.000000   -38.164920   144.542370\n",
       "25%       2.000000     1.000000    152.000000   -37.855438   144.926198\n",
       "50%       3.000000     1.000000    373.000000   -37.802250   144.995800\n",
       "75%       4.000000     2.000000    628.000000   -37.758200   145.052700\n",
       "max       8.000000     8.000000  37000.000000   -37.457090   145.526350"
      ]
     },
     "execution_count": 7,
     "metadata": {},
     "output_type": "execute_result"
    }
   ],
   "source": [
    "x.describe()"
   ]
  },
  {
   "cell_type": "code",
   "execution_count": 9,
   "id": "a8e46f95",
   "metadata": {},
   "outputs": [
    {
     "data": {
      "text/plain": [
       "DecisionTreeRegressor(random_state=1)"
      ]
     },
     "execution_count": 9,
     "metadata": {},
     "output_type": "execute_result"
    }
   ],
   "source": [
    "from sklearn.tree import DecisionTreeRegressor\n",
    "\n",
    "#random_state ensures you get the same results in each run.\n",
    "melbourne_model = DecisionTreeRegressor(random_state=1)\n",
    "\n",
    "melbourne_model.fit(x, y)"
   ]
  },
  {
   "cell_type": "code",
   "execution_count": null,
   "id": "61f0eb53",
   "metadata": {},
   "outputs": [],
   "source": [
    "print(\"Making predictions for the following 5 houses:\")\n",
    "print(X.head())\n",
    "print(\"The predictions are\")\n",
    "print(melbourne_model.predict(X.head()))"
   ]
  }
 ],
 "metadata": {
  "kernelspec": {
   "display_name": "Python 3 (ipykernel)",
   "language": "python",
   "name": "python3"
  },
  "language_info": {
   "codemirror_mode": {
    "name": "ipython",
    "version": 3
   },
   "file_extension": ".py",
   "mimetype": "text/x-python",
   "name": "python",
   "nbconvert_exporter": "python",
   "pygments_lexer": "ipython3",
   "version": "3.9.13"
  }
 },
 "nbformat": 4,
 "nbformat_minor": 5
}
