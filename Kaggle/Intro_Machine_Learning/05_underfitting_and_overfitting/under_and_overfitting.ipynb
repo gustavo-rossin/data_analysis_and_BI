{
 "cells": [
  {
   "cell_type": "markdown",
   "id": "5c9846f8",
   "metadata": {},
   "source": [
    "# Explicação"
   ]
  },
  {
   "cell_type": "code",
   "execution_count": 1,
   "id": "347a63d9",
   "metadata": {},
   "outputs": [],
   "source": [
    "from sklearn.metrics import mean_absolute_error\n",
    "from sklearn.tree import DecisionTreeRegressor\n",
    "\n",
    "def get_mae(max_leaf_nodes, train_X, train_y, val_X, val_y):\n",
    "    model = DecisionTreeRegressor(max_leaf_nodes=max_leaf_nodes, random_state=0)\n",
    "    model.fit(train_X, train_y)\n",
    "    predict_val = model.predict(val_X)\n",
    "    mae = mean_absolute_error(val_y, predict_val)\n",
    "    return mae"
   ]
  },
  {
   "cell_type": "code",
   "execution_count": 6,
   "id": "87454c8e",
   "metadata": {},
   "outputs": [
    {
     "name": "stdout",
     "output_type": "stream",
     "text": [
      "       Suburb          Address  Rooms Type      Price Method SellerG  \\\n",
      "1  Abbotsford  25 Bloomburg St      2    h  1035000.0      S  Biggin   \n",
      "2  Abbotsford     5 Charles St      3    h  1465000.0     SP  Biggin   \n",
      "4  Abbotsford      55a Park St      4    h  1600000.0     VB  Nelson   \n",
      "6  Abbotsford     124 Yarra St      3    h  1876000.0      S  Nelson   \n",
      "7  Abbotsford    98 Charles St      2    h  1636000.0      S  Nelson   \n",
      "\n",
      "        Date  Distance  Postcode  ...  Bathroom  Car  Landsize  BuildingArea  \\\n",
      "1  4/02/2016       2.5    3067.0  ...       1.0  0.0     156.0          79.0   \n",
      "2  4/03/2017       2.5    3067.0  ...       2.0  0.0     134.0         150.0   \n",
      "4  4/06/2016       2.5    3067.0  ...       1.0  2.0     120.0         142.0   \n",
      "6  7/05/2016       2.5    3067.0  ...       2.0  0.0     245.0         210.0   \n",
      "7  8/10/2016       2.5    3067.0  ...       1.0  2.0     256.0         107.0   \n",
      "\n",
      "   YearBuilt  CouncilArea Lattitude  Longtitude             Regionname  \\\n",
      "1     1900.0        Yarra  -37.8079    144.9934  Northern Metropolitan   \n",
      "2     1900.0        Yarra  -37.8093    144.9944  Northern Metropolitan   \n",
      "4     2014.0        Yarra  -37.8072    144.9941  Northern Metropolitan   \n",
      "6     1910.0        Yarra  -37.8024    144.9993  Northern Metropolitan   \n",
      "7     1890.0        Yarra  -37.8060    144.9954  Northern Metropolitan   \n",
      "\n",
      "  Propertycount  \n",
      "1        4019.0  \n",
      "2        4019.0  \n",
      "4        4019.0  \n",
      "6        4019.0  \n",
      "7        4019.0  \n",
      "\n",
      "[5 rows x 21 columns]\n"
     ]
    }
   ],
   "source": [
    "# Data Loading Code Runs At This Point\n",
    "import pandas as pd\n",
    "from sklearn.model_selection import train_test_split\n",
    "\n",
    "# Load data\n",
    "melbourne_path = '../02_basic_data_exploration/melb_data.csv'\n",
    "\n",
    "melbourne_data = pd.read_csv(melbourne_path)\n",
    "\n",
    "# Filter rows with missing values\n",
    "updated_melbourne_data = melbourne_data.dropna(axis = 0)\n",
    "print(updated_melbourne_data.head())\n",
    "\n",
    "# Choose target and features\n",
    "y = updated_melbourne_data.Price\n",
    "\n",
    "features = ['Rooms', 'Bathroom', 'Landsize', 'BuildingArea', 'YearBuilt', 'Lattitude', 'Longtitude']\n",
    "\n",
    "X = updated_melbourne_data[features]\n",
    "\n",
    "# split data into training and validation data, for both features and target\n",
    "train_X, train_y, val_X, val_y = train_test_split(X, y, random_state=0)"
   ]
  },
  {
   "cell_type": "code",
   "execution_count": 8,
   "id": "5310ba35",
   "metadata": {},
   "outputs": [
    {
     "name": "stdout",
     "output_type": "stream",
     "text": [
      "Max leaf nodes: 5  \t\t Mean Absolute Error:  347380\n",
      "Max leaf nodes: 50  \t\t Mean Absolute Error:  258171\n",
      "Max leaf nodes: 500  \t\t Mean Absolute Error:  243495\n",
      "Max leaf nodes: 5000  \t\t Mean Absolute Error:  254983\n"
     ]
    }
   ],
   "source": [
    "# compare MAE with differing values of max_leaf_nodes\n",
    "for max_leaf_nodes in [5, 50, 500, 5000]:\n",
    "    my_mae = get_mae(max_leaf_nodes, train_X, val_X, train_y, val_y)\n",
    "    print(\"Max leaf nodes: %d  \\t\\t Mean Absolute Error:  %d\" %(max_leaf_nodes, my_mae))"
   ]
  }
 ],
 "metadata": {
  "kernelspec": {
   "display_name": "Python 3 (ipykernel)",
   "language": "python",
   "name": "python3"
  },
  "language_info": {
   "codemirror_mode": {
    "name": "ipython",
    "version": 3
   },
   "file_extension": ".py",
   "mimetype": "text/x-python",
   "name": "python",
   "nbconvert_exporter": "python",
   "pygments_lexer": "ipython3",
   "version": "3.9.13"
  }
 },
 "nbformat": 4,
 "nbformat_minor": 5
}
