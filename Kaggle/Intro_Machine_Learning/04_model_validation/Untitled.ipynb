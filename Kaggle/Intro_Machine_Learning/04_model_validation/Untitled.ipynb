{
 "cells": [
  {
   "cell_type": "markdown",
   "id": "baed2b1b",
   "metadata": {},
   "source": [
    "# Explicação"
   ]
  },
  {
   "cell_type": "markdown",
   "id": "46a66ec1",
   "metadata": {},
   "source": [
    "#### Mean Absolute Error ou Erro Absoluto Médio (MAE ou EAM)"
   ]
  },
  {
   "cell_type": "code",
   "execution_count": 4,
   "id": "e520da71",
   "metadata": {},
   "outputs": [
    {
     "data": {
      "text/plain": [
       "DecisionTreeRegressor()"
      ]
     },
     "execution_count": 4,
     "metadata": {},
     "output_type": "execute_result"
    }
   ],
   "source": [
    "import pandas as pd\n",
    "from sklearn.tree import DecisionTreeRegressor\n",
    "\n",
    "# Load data\n",
    "df_melb = pd.read_csv('../02_basic_data_exploration/melb_data.csv')\n",
    "\n",
    "# Filter rows with missing price values\n",
    "df_melb_no_na = df_melb.dropna(axis = 0)\n",
    "\n",
    "# Choose target and features\n",
    "y = df_melb_no_na.Price\n",
    "melb_features = ['Rooms', 'Bathroom', 'Landsize', 'BuildingArea', 'YearBuilt', 'Lattitude', 'Longtitude']\n",
    "X = df_melb_no_na[melb_features]\n",
    "\n",
    "# Define model\n",
    "melb_model = DecisionTreeRegressor()\n",
    "\n",
    "# Fit model\n",
    "melb_model.fit(X, y)"
   ]
  },
  {
   "cell_type": "code",
   "execution_count": 9,
   "id": "720e62b8",
   "metadata": {},
   "outputs": [
    {
     "name": "stdout",
     "output_type": "stream",
     "text": [
      "[1035000. 1465000. 1600000. ...  385000.  560000. 2450000.]\n",
      "média =  1068828.202065849\n",
      "média de y =  1068828.202065849\n"
     ]
    },
    {
     "data": {
      "text/plain": [
       "434.71594577146544"
      ]
     },
     "execution_count": 9,
     "metadata": {},
     "output_type": "execute_result"
    }
   ],
   "source": [
    "from sklearn.metrics import mean_absolute_error\n",
    "\n",
    "predicted_home_prices = melb_model.predict(X)\n",
    "print(predicted_home_prices)\n",
    "print('média = ', predicted_home_prices.mean())\n",
    "print('média de y = ', y.mean())\n",
    "mean_absolute_error(y, predicted_home_prices)"
   ]
  },
  {
   "cell_type": "code",
   "execution_count": 18,
   "id": "4671a140",
   "metadata": {},
   "outputs": [
    {
     "name": "stdout",
     "output_type": "stream",
     "text": [
      "260462.0639122014\n"
     ]
    }
   ],
   "source": [
    "from sklearn.model_selection import train_test_split\n",
    "\n",
    "train_X, val_X, train_y, val_y = train_test_split(X, y, random_state = 0)\n",
    "\n",
    "# print(train_X)\n",
    "# print(val_X)\n",
    "# print(train_y)\n",
    "# print(val_y)\n",
    "\n",
    "# Define model\n",
    "melbourne_model = DecisionTreeRegressor()\n",
    "# Fit model\n",
    "melbourne_model.fit(train_X, train_y)\n",
    "\n",
    "# get predicted prices on validation data\n",
    "val_predictions = melbourne_model.predict(val_X)\n",
    "print(mean_absolute_error(val_y, val_predictions))"
   ]
  },
  {
   "cell_type": "markdown",
   "id": "6823d743",
   "metadata": {},
   "source": [
    "# Exercício"
   ]
  },
  {
   "cell_type": "code",
   "execution_count": 24,
   "id": "725fa47a",
   "metadata": {},
   "outputs": [
    {
     "name": "stdout",
     "output_type": "stream",
     "text": [
      "[208500. 181500. 223500. 140000. 250000.]\n"
     ]
    }
   ],
   "source": [
    "iowa_path = '../02_basic_data_exploration/train.csv'\n",
    "\n",
    "home_data = pd.read_csv(iowa_path)\n",
    "\n",
    "home_data.head()\n",
    "\n",
    "y = home_data.SalePrice\n",
    "features = ['LotArea', 'YearBuilt', '1stFlrSF', '2ndFlrSF', 'FullBath', 'BedroomAbvGr', 'TotRmsAbvGrd']\n",
    "X = home_data[features]\n",
    "\n",
    "y.head()\n",
    "X.head()\n",
    "\n",
    "home_model = DecisionTreeRegressor()\n",
    "\n",
    "home_model.fit(X, y)\n",
    "\n",
    "predictions = home_model.predict(X.head())\n",
    "print(predictions)\n",
    "\n",
    "train_X, val_X, train_y, val_y = train_test_split(X, y, random_state=1)"
   ]
  }
 ],
 "metadata": {
  "kernelspec": {
   "display_name": "Python 3 (ipykernel)",
   "language": "python",
   "name": "python3"
  },
  "language_info": {
   "codemirror_mode": {
    "name": "ipython",
    "version": 3
   },
   "file_extension": ".py",
   "mimetype": "text/x-python",
   "name": "python",
   "nbconvert_exporter": "python",
   "pygments_lexer": "ipython3",
   "version": "3.9.13"
  }
 },
 "nbformat": 4,
 "nbformat_minor": 5
}
